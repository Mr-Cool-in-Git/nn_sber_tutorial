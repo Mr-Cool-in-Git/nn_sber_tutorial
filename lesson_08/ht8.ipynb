{
 "cells": [
  {
   "cell_type": "markdown",
   "metadata": {
    "id": "3_8BML8d68_Q"
   },
   "source": [
    "## Keras\n",
    "\n",
    "Keras это высокоуровневая обертка над tensorflow. Но в текущих реализациях библиотеке tf они живут очень рядом. \n",
    "Когда мы собираем свои нейронки мы берем уже готовые слои из keras и добавляем что-то свое, если нам требуется.\n",
    "Но keras можно использовать без явного использования TF пытаясь свести задачу к fit-predict.\n"
   ]
  },
  {
   "cell_type": "markdown",
   "metadata": {
    "id": "fGPn6xDl68_V"
   },
   "source": [
    "### Sequential\n",
    "Самое простое, что мы можем сделать это собирать слои последовательно друг за другом - займемся же этим!"
   ]
  },
  {
   "cell_type": "code",
   "execution_count": 6,
   "metadata": {},
   "outputs": [],
   "source": [
    "#pip install --user tensorflow"
   ]
  },
  {
   "cell_type": "code",
   "execution_count": 2,
   "metadata": {
    "id": "8xAX8Ylx68_W",
    "tags": []
   },
   "outputs": [],
   "source": [
    "from sklearn.model_selection import train_test_split\n",
    "\n",
    "import tensorflow as tf\n",
    "from tensorflow.keras import Sequential, layers as L # подгружаем нужные модули. \n",
    "import tensorflow.keras as keras\n",
    "\n",
    "import matplotlib.pyplot as plt"
   ]
  },
  {
   "cell_type": "code",
   "execution_count": 3,
   "metadata": {
    "id": "bU6Q2ZNE68_X",
    "tags": []
   },
   "outputs": [],
   "source": [
    "# в keras лежит несколько наборов данных. Для примера возьмем fashion_mnist - как mnist, но про предметы одежды :)\n",
    "fashion_mnist = tf.keras.datasets.fashion_mnist\n",
    "\n",
    "(X_train, y_train), (X_test, y_test) = fashion_mnist.load_data()\n",
    "\n",
    "X_train, X_val, y_train, y_val = train_test_split(X_train, y_train, test_size=10**4, random_state=42)\n",
    "\n",
    "X_train = X_train/ 255.\n",
    "X_val = X_val/ 255.\n",
    "X_test = X_test/ 255.\n",
    "\n",
    "class_names = ['T-shirt/top', 'Trouser', 'Pullover', 'Dress', 'Coat',\n",
    "               'Sandal', 'Shirt', 'Sneaker', 'Bag', 'Ankle boot']"
   ]
  },
  {
   "cell_type": "code",
   "execution_count": 7,
   "metadata": {
    "colab": {
     "base_uri": "https://localhost:8080/"
    },
    "id": "_p0Tw20KJF3r",
    "outputId": "aa45b692-614d-49d3-b38b-1aba347104ae"
   },
   "outputs": [
    {
     "data": {
      "text/plain": [
       "(28, 28)"
      ]
     },
     "execution_count": 7,
     "metadata": {},
     "output_type": "execute_result"
    }
   ],
   "source": [
    "X_train[0,:,:].shape"
   ]
  },
  {
   "cell_type": "code",
   "execution_count": 8,
   "metadata": {
    "colab": {
     "base_uri": "https://localhost:8080/",
     "height": 284
    },
    "id": "KktcZHsV7Kms",
    "outputId": "bb4d2f95-3731-480f-ac51-ad3bec780680"
   },
   "outputs": [
    {
     "data": {
      "text/plain": [
       "'Sandal'"
      ]
     },
     "execution_count": 8,
     "metadata": {},
     "output_type": "execute_result"
    },
    {
     "data": {
      "image/png": "[encoded data removed]",
      "text/plain": [
       "<Figure size 432x288 with 1 Axes>"
      ]
     },
     "metadata": {
      "needs_background": "light"
     },
     "output_type": "display_data"
    }
   ],
   "source": [
    "plt.imshow(X_train[0])\n",
    "class_names[y_train[0]]"
   ]
  },
  {
   "cell_type": "code",
   "execution_count": 9,
   "metadata": {
    "colab": {
     "base_uri": "https://localhost:8080/"
    },
    "id": "wgXyO60H7Kzu",
    "outputId": "ea9e8a9d-4a5e-48ca-f455-1f64c49f9a73"
   },
   "outputs": [
    {
     "data": {
      "text/plain": [
       "array([5, 0, 0, ..., 6, 6, 1], dtype=uint8)"
      ]
     },
     "execution_count": 9,
     "metadata": {},
     "output_type": "execute_result"
    }
   ],
   "source": [
    "y_train"
   ]
  },
  {
   "cell_type": "code",
   "execution_count": 10,
   "metadata": {
    "id": "UkBADSnU68_X",
    "tags": []
   },
   "outputs": [],
   "source": [
    "# для того, чтобы учить через cross_entropy нам нужно сделать OHE таргетам. И эта функция есть в keras!\n",
    "from tensorflow.keras.utils import to_categorical\n",
    "\n",
    "y_train_ohe = to_categorical(y_train)\n",
    "y_test_ohe = to_categorical(y_test)\n",
    "y_val_ohe = to_categorical(y_val)\n"
   ]
  },
  {
   "cell_type": "code",
   "execution_count": 11,
   "metadata": {
    "colab": {
     "base_uri": "https://localhost:8080/"
    },
    "id": "WCaPq2Ke9nqu",
    "outputId": "3124dfea-43fb-42a3-e9ed-108fccbad88c"
   },
   "outputs": [
    {
     "data": {
      "text/plain": [
       "array([[0., 0., 0., ..., 0., 0., 0.],\n",
       "       [1., 0., 0., ..., 0., 0., 0.],\n",
       "       [1., 0., 0., ..., 0., 0., 0.],\n",
       "       ...,\n",
       "       [0., 0., 0., ..., 0., 0., 0.],\n",
       "       [0., 0., 0., ..., 0., 0., 0.],\n",
       "       [0., 1., 0., ..., 0., 0., 0.]], dtype=float32)"
      ]
     },
     "execution_count": 11,
     "metadata": {},
     "output_type": "execute_result"
    }
   ],
   "source": [
    "y_train_ohe"
   ]
  },
  {
   "cell_type": "code",
   "execution_count": 12,
   "metadata": {
    "id": "bE4Oj_Ik68_Y",
    "scrolled": true,
    "tags": []
   },
   "outputs": [],
   "source": [
    "## Первая простая нейронка\n",
    "\n",
    "tf.random.set_seed(42) # фиксируем random_seed\n",
    "\n",
    "model = Sequential(name = 'first_model')\n",
    "model.add(L.InputLayer(input_shape = (28,28))) # входной нейрон с данными. Его обычно можно опускать, сразу передавая \n",
    "# в нейрон размерность. Но Dense ячейки не умеют работать с картинками, поэтому оставляем Input\n",
    "model.add(L.Flatten()) # разворачиваем картинку в вектор\n",
    "model.add(L.Dense(100,  kernel_initializer='random_normal',name='First')) # можно именовать и потом брать слои по именам\n",
    "model.add(L.ReLU()) # добавляем активацию\n",
    "model.add(L.Dense(10, kernel_initializer = 'random_normal',name='Output'))\n",
    "model.add(L.Softmax())\n",
    "opt = keras.optimizers.Adam(learning_rate=1e-4) # так же нам нужно указать оптимайзер\n",
    "model.compile(optimizer=opt,loss='categorical_crossentropy',\n",
    "             metrics=[\"categorical_accuracy\"]) # и собрать нашу модель, указав метрики,loss и оптимизатор"
   ]
  },
  {
   "cell_type": "code",
   "execution_count": 13,
   "metadata": {
    "colab": {
     "base_uri": "https://localhost:8080/"
    },
    "id": "N9hJE6_FJljv",
    "outputId": "f3a4f3cd-e3ae-44ef-ab5a-5860c383da85"
   },
   "outputs": [
    {
     "name": "stdout",
     "output_type": "stream",
     "text": [
      "Model: \"first_model\"\n",
      "_________________________________________________________________\n",
      "Layer (type)                 Output Shape              Param #   \n",
      "=================================================================\n",
      "flatten (Flatten)            (None, 784)               0         \n",
      "_________________________________________________________________\n",
      "First (Dense)                (None, 100)               78500     \n",
      "_________________________________________________________________\n",
      "re_lu (ReLU)                 (None, 100)               0         \n",
      "_________________________________________________________________\n",
      "Output (Dense)               (None, 10)                1010      \n",
      "_________________________________________________________________\n",
      "softmax (Softmax)            (None, 10)                0         \n",
      "=================================================================\n",
      "Total params: 79,510\n",
      "Trainable params: 79,510\n",
      "Non-trainable params: 0\n",
      "_________________________________________________________________\n"
     ]
    }
   ],
   "source": [
    "model.summary()"
   ]
  },
  {
   "cell_type": "code",
   "execution_count": 14,
   "metadata": {
    "colab": {
     "base_uri": "https://localhost:8080/"
    },
    "id": "Yv4XzkIBJiXA",
    "outputId": "cd92c1c5-7638-4338-ad01-6db132b761ef"
   },
   "outputs": [
    {
     "name": "stdout",
     "output_type": "stream",
     "text": [
      "Epoch 1/2\n",
      "100/100 [==============================] - 1s 9ms/step - loss: 1.8981 - categorical_accuracy: 0.4697 - val_loss: 1.4741 - val_categorical_accuracy: 0.6431\n",
      "Epoch 2/2\n",
      "100/100 [==============================] - 1s 6ms/step - loss: 1.2028 - categorical_accuracy: 0.6653 - val_loss: 1.0262 - val_categorical_accuracy: 0.6838\n"
     ]
    }
   ],
   "source": [
    "history1 = model.fit(X_train,y_train_ohe,batch_size=500,epochs=2,validation_data = (X_val,y_val_ohe)) # и процесс обучения. Задаем количество эпох, размер батча и валидационную часть наших данных"
   ]
  },
  {
   "cell_type": "code",
   "execution_count": 11,
   "metadata": {
    "id": "Osx9naXl68_Z",
    "tags": []
   },
   "outputs": [],
   "source": [
    "#history1.params"
   ]
  },
  {
   "cell_type": "code",
   "execution_count": 12,
   "metadata": {
    "id": "TDE0p46B68_a",
    "scrolled": true,
    "tags": []
   },
   "outputs": [],
   "source": [
    "#history1.history"
   ]
  },
  {
   "cell_type": "code",
   "execution_count": 13,
   "metadata": {
    "id": "0a5T-qtzL-d1",
    "tags": []
   },
   "outputs": [],
   "source": [
    "#model.predict(X_val)"
   ]
  },
  {
   "cell_type": "code",
   "execution_count": 15,
   "metadata": {
    "colab": {
     "base_uri": "https://localhost:8080/"
    },
    "id": "_2lkMfAY68_a",
    "outputId": "faa4cf5c-09d0-4f51-d478-7b50113cf7ca"
   },
   "outputs": [
    {
     "name": "stdout",
     "output_type": "stream",
     "text": [
      "Epoch 1/2\n",
      "100/100 [==============================] - 1s 9ms/step - loss: 1.8162 - categorical_accuracy: 0.4942 - val_loss: 1.4007 - val_categorical_accuracy: 0.6495\n",
      "Epoch 2/2\n",
      "100/100 [==============================] - 1s 7ms/step - loss: 1.1443 - categorical_accuracy: 0.6729 - val_loss: 0.9788 - val_categorical_accuracy: 0.6841\n"
     ]
    }
   ],
   "source": [
    "# Эту же модель можно записать чуть в меньшее количество строчек кода\n",
    "model = Sequential(name = 'first_model')\n",
    "model.add(L.InputLayer(input_shape = (28,28))) \n",
    "model.add(L.Flatten())\n",
    "model.add(L.Dense(100,  kernel_initializer='random_normal',name='First',activation='relu')) # можно именовать и потом брать слои по именам\n",
    "model.add(L.Dense(10, kernel_initializer = 'random_normal',name='Output',activation='softmax'))\n",
    "opt = keras.optimizers.Adam(learning_rate=1e-4) \n",
    "model.compile(optimizer=opt,loss='categorical_crossentropy',\n",
    "             metrics=[\"categorical_accuracy\"]) \n",
    "\n",
    "history1 = model.fit(X_train,y_train_ohe,batch_size=500,epochs=2,validation_data = (X_val,y_val_ohe))\n"
   ]
  },
  {
   "cell_type": "markdown",
   "metadata": {
    "id": "3o8qs6yYRXpk"
   },
   "source": [
    "### Model"
   ]
  },
  {
   "cell_type": "markdown",
   "metadata": {
    "id": "IUH1NzmU68_c"
   },
   "source": [
    "Класс Sequential позволяет набирать слои только последовательно.\n",
    "Что же у нас есть новый герой  - Model.\n",
    "Он позволяет собирать сетки практически любой архитектуры"
   ]
  },
  {
   "cell_type": "code",
   "execution_count": 16,
   "metadata": {
    "id": "pxSMfmJg68_d",
    "tags": []
   },
   "outputs": [],
   "source": [
    "from tensorflow.keras import Model  # подгружаем нужные модули. "
   ]
  },
  {
   "cell_type": "code",
   "execution_count": 17,
   "metadata": {
    "id": "N98VKSmP68_d",
    "tags": []
   },
   "outputs": [],
   "source": [
    "init = 'uniform'\n",
    "act = 'relu'\n",
    "\n",
    "input_tensor = L.Input(shape=(28, 28)) # задаем вход\n",
    "x = L.Flatten()(input_tensor)# применение нейрона к входу\n",
    "x = L.Dense(100, kernel_initializer=init, activation=act)(x) # повторяем всю логику сколько нам надо\n",
    "x = L.Dense(100, kernel_initializer=init, activation=act)(x)\n",
    "output_tensor = L.Dense(10, kernel_initializer=init, activation='softmax')(x)\n",
    "\n",
    "model = keras.Model(input_tensor, output_tensor) # Keras под копотом сам собирает граф.\n",
    "# Если он может получить из входа выхода то вы великолепны.\n",
    "\n",
    "model.compile(optimizer=opt,loss='categorical_crossentropy',\n",
    "             metrics=[\"categorical_accuracy\"]) "
   ]
  },
  {
   "cell_type": "code",
   "execution_count": 18,
   "metadata": {
    "colab": {
     "base_uri": "https://localhost:8080/"
    },
    "id": "KwhQGYde68_e",
    "outputId": "e8eab7dc-f358-4a48-c111-e51d27dce451"
   },
   "outputs": [
    {
     "name": "stdout",
     "output_type": "stream",
     "text": [
      "Epoch 1/2\n",
      "100/100 [==============================] - 1s 8ms/step - loss: 1.7175 - categorical_accuracy: 0.4992 - val_loss: 1.1117 - val_categorical_accuracy: 0.6157\n",
      "Epoch 2/2\n",
      "100/100 [==============================] - 1s 7ms/step - loss: 0.9294 - categorical_accuracy: 0.6556 - val_loss: 0.8372 - val_categorical_accuracy: 0.6664\n"
     ]
    }
   ],
   "source": [
    "history = model.fit(X_train,y_train_ohe,batch_size=500,epochs=2,validation_data = (X_val,y_val_ohe))"
   ]
  },
  {
   "cell_type": "markdown",
   "metadata": {
    "id": "VHpig-gsRhN4"
   },
   "source": [
    "### Несколько входов"
   ]
  },
  {
   "cell_type": "markdown",
   "metadata": {
    "id": "3_-iBDPw68_f"
   },
   "source": [
    "Такой подход позволяет делать практически любой гибкости нейронки. Как пример - нейрона, принимающая два входа"
   ]
  },
  {
   "cell_type": "code",
   "execution_count": 19,
   "metadata": {
    "colab": {
     "base_uri": "https://localhost:8080/"
    },
    "id": "ER0lcHOF68_f",
    "outputId": "f40058f7-922c-4396-8581-c3f63f037977"
   },
   "outputs": [
    {
     "name": "stdout",
     "output_type": "stream",
     "text": [
      "Model: \"model_1\"\n",
      "__________________________________________________________________________________________________\n",
      "Layer (type)                    Output Shape         Param #     Connected to                     \n",
      "==================================================================================================\n",
      "input_4 (InputLayer)            [(None, 28, 28)]     0                                            \n",
      "__________________________________________________________________________________________________\n",
      "input_5 (InputLayer)            [(None, 28, 28)]     0                                            \n",
      "__________________________________________________________________________________________________\n",
      "flatten_3 (Flatten)             (None, 784)          0           input_4[0][0]                    \n",
      "__________________________________________________________________________________________________\n",
      "flatten_4 (Flatten)             (None, 784)          0           input_5[0][0]                    \n",
      "__________________________________________________________________________________________________\n",
      "dense_3 (Dense)                 (None, 100)          78500       flatten_3[0][0]                  \n",
      "__________________________________________________________________________________________________\n",
      "dense_5 (Dense)                 (None, 100)          78500       flatten_4[0][0]                  \n",
      "__________________________________________________________________________________________________\n",
      "dense_4 (Dense)                 (None, 100)          10100       dense_3[0][0]                    \n",
      "__________________________________________________________________________________________________\n",
      "dense_6 (Dense)                 (None, 100)          10100       dense_5[0][0]                    \n",
      "__________________________________________________________________________________________________\n",
      "concatenate (Concatenate)       (None, 200)          0           dense_4[0][0]                    \n",
      "                                                                 dense_6[0][0]                    \n",
      "__________________________________________________________________________________________________\n",
      "dense_7 (Dense)                 (None, 10)           2010        concatenate[0][0]                \n",
      "==================================================================================================\n",
      "Total params: 179,210\n",
      "Trainable params: 179,210\n",
      "Non-trainable params: 0\n",
      "__________________________________________________________________________________________________\n"
     ]
    }
   ],
   "source": [
    "input_1 = L.Input(shape=(28, 28))\n",
    "input_2 = L.Input(shape=(28, 28))\n",
    "\n",
    "x1 = L.Flatten()(input_1)\n",
    "x1 = L.Dense(100, kernel_initializer=init, activation=act)(x1)\n",
    "x1 = L.Dense(100, kernel_initializer=init, activation=act)(x1)\n",
    "\n",
    "x2 = L.Flatten()(input_2)\n",
    "x2 = L.Dense(100, kernel_initializer=init, activation=act)(x2)\n",
    "x2 = L.Dense(100, kernel_initializer=init, activation=act)(x2)\n",
    "\n",
    "x = L.concatenate([x1, x2]) # Волшебное слово, которое позволяет нам соеденять несколько потоков наших данных\n",
    "output = L.Dense(10, kernel_initializer=init, activation='softmax')(x)\n",
    "\n",
    "model = keras.Model([input_1, input_2], output)\n",
    "model.summary()"
   ]
  },
  {
   "cell_type": "code",
   "execution_count": 20,
   "metadata": {
    "id": "yoZXMazG68_g",
    "tags": []
   },
   "outputs": [],
   "source": [
    "model.compile(optimizer=opt,loss='categorical_crossentropy',\n",
    "             metrics=[\"categorical_accuracy\"]) "
   ]
  },
  {
   "cell_type": "code",
   "execution_count": 21,
   "metadata": {
    "colab": {
     "base_uri": "https://localhost:8080/"
    },
    "id": "rpXMQAdp68_h",
    "outputId": "a1913133-e59b-454b-b243-818897ad6dad"
   },
   "outputs": [
    {
     "name": "stdout",
     "output_type": "stream",
     "text": [
      "Epoch 1/2\n",
      "100/100 [==============================] - 2s 13ms/step - loss: 1.3889 - categorical_accuracy: 0.5688 - val_loss: 0.8389 - val_categorical_accuracy: 0.6807\n",
      "Epoch 2/2\n",
      "100/100 [==============================] - 1s 11ms/step - loss: 0.7303 - categorical_accuracy: 0.7328 - val_loss: 0.6777 - val_categorical_accuracy: 0.7554\n"
     ]
    }
   ],
   "source": [
    "history = model.fit([X_train,X_train],y_train_ohe,batch_size=500,epochs=2,validation_data = ([X_val,X_val],y_val_ohe))"
   ]
  },
  {
   "cell_type": "code",
   "execution_count": 26,
   "metadata": {
    "id": "ccR9UU2Z68_i",
    "tags": []
   },
   "outputs": [],
   "source": [
    "# нужно для винды, если не видит путь до graphviz\n",
    "import os\n",
    "os.environ[\"PATH\"] += os.pathsep + 'C:/Program Files (x86)/Graphviz2.38/bin/'\n",
    "from tensorflow.keras.utils import plot_model"
   ]
  },
  {
   "cell_type": "code",
   "execution_count": 23,
   "metadata": {},
   "outputs": [
    {
     "name": "stdout",
     "output_type": "stream",
     "text": [
      "Requirement already satisfied: pydot in n:\\conda_asus\\lib\\site-packages (1.4.2)\n",
      "Requirement already satisfied: pyparsing>=2.1.4 in n:\\conda_asus\\lib\\site-packages (from pydot) (2.4.7)\n"
     ]
    }
   ],
   "source": [
    "!pip install pydot"
   ]
  },
  {
   "cell_type": "code",
   "execution_count": 24,
   "metadata": {},
   "outputs": [
    {
     "name": "stdout",
     "output_type": "stream",
     "text": [
      "Requirement already satisfied: graphviz in n:\\conda_asus\\lib\\site-packages (0.17)\n"
     ]
    }
   ],
   "source": [
    "!pip install graphviz"
   ]
  },
  {
   "cell_type": "code",
   "execution_count": 27,
   "metadata": {
    "colab": {
     "base_uri": "https://localhost:8080/",
     "height": 564
    },
    "id": "88Iets_A68_i",
    "outputId": "14228e09-ed4a-45de-e070-84f10a987f7f"
   },
   "outputs": [
    {
     "name": "stdout",
     "output_type": "stream",
     "text": [
      "('You must install pydot (`pip install pydot`) and install graphviz (see instructions at https://graphviz.gitlab.io/download/) ', 'for plot_model/model_to_dot to work.')\n"
     ]
    }
   ],
   "source": [
    "plot_model(model) # можно нарисовать модельку"
   ]
  },
  {
   "cell_type": "markdown",
   "metadata": {
    "id": "6fvElIbk68_j"
   },
   "source": [
    "### Несколько выходов и функций потерь"
   ]
  },
  {
   "cell_type": "code",
   "execution_count": 28,
   "metadata": {
    "colab": {
     "base_uri": "https://localhost:8080/"
    },
    "id": "dcFKWoCm68_j",
    "outputId": "efe5dd8d-e6b0-456c-f3c3-0eb5c190a557"
   },
   "outputs": [
    {
     "name": "stdout",
     "output_type": "stream",
     "text": [
      "Model: \"model_2\"\n",
      "__________________________________________________________________________________________________\n",
      "Layer (type)                    Output Shape         Param #     Connected to                     \n",
      "==================================================================================================\n",
      "input_6 (InputLayer)            [(None, 28, 28)]     0                                            \n",
      "__________________________________________________________________________________________________\n",
      "flatten_5 (Flatten)             (None, 784)          0           input_6[0][0]                    \n",
      "__________________________________________________________________________________________________\n",
      "dense_8 (Dense)                 (None, 100)          78500       flatten_5[0][0]                  \n",
      "__________________________________________________________________________________________________\n",
      "dense_9 (Dense)                 (None, 100)          78500       flatten_5[0][0]                  \n",
      "__________________________________________________________________________________________________\n",
      "dense_10 (Dense)                (None, 100)          78500       flatten_5[0][0]                  \n",
      "__________________________________________________________________________________________________\n",
      "gender (Dense)                  (None, 1)            101         dense_8[0][0]                    \n",
      "__________________________________________________________________________________________________\n",
      "income (Dense)                  (None, 10)           1010        dense_9[0][0]                    \n",
      "__________________________________________________________________________________________________\n",
      "age (Dense)                     (None, 1)            101         dense_10[0][0]                   \n",
      "==================================================================================================\n",
      "Total params: 236,712\n",
      "Trainable params: 236,712\n",
      "Non-trainable params: 0\n",
      "__________________________________________________________________________________________________\n"
     ]
    }
   ],
   "source": [
    "init = 'uniform'\n",
    "act = 'relu'\n",
    "\n",
    "input_tensor = L.Input(shape=(28, 28))\n",
    "\n",
    "x = L.Flatten()(input_tensor)\n",
    "x1 = L.Dense(100, kernel_initializer=init, activation=act)(x)\n",
    "x2 = L.Dense(100, kernel_initializer=init, activation=act)(x)\n",
    "x3 = L.Dense(100, kernel_initializer=init, activation=act)(x)\n",
    "\n",
    "output_1 = L.Dense(1, kernel_initializer=init, activation='sigmoid',name='gender')(x1)\n",
    "output_2 = L.Dense(10, kernel_initializer=init, activation='softmax',name='income')(x2)\n",
    "output_3 = L.Dense(1, kernel_initializer=init,name='age')(x3)\n",
    "\n",
    "model = keras.Model(input_tensor, [output_1, output_2, output_3])\n",
    "\n",
    "model.summary()"
   ]
  },
  {
   "cell_type": "code",
   "execution_count": 29,
   "metadata": {
    "id": "O7CYHwNj68_k",
    "tags": []
   },
   "outputs": [],
   "source": [
    "# чтобы модель не переобучилась под самую большую функцию потерь\n",
    "# их можно взвесить\n",
    "model.compile(optimizer='adam', loss=['mse', 'categorical_crossentropy', 'binary_crossentropy'],\n",
    "                                    loss_weights=[0.25, 1., 10.])\n",
    "\n",
    "# если дали выходам имена, можно вот так: \n",
    "model.compile(optimizer='adam',\n",
    "              loss={'age': 'mse',\n",
    "                    'income': 'categorical_crossentropy',\n",
    "                    'gender': 'binary_crossentropy'},\n",
    "              loss_weights={'age': 0.25,\n",
    "                            'income': 1.,\n",
    "                            'gender': 10.})"
   ]
  },
  {
   "cell_type": "code",
   "execution_count": 24,
   "metadata": {
    "collapsed": true,
    "id": "EY-B5p1dSAPn",
    "jupyter": {
     "outputs_hidden": true
    }
   },
   "outputs": [],
   "source": []
  },
  {
   "cell_type": "code",
   "execution_count": 51,
   "metadata": {
    "collapsed": true,
    "id": "FYq6PUtY68_o",
    "jupyter": {
     "outputs_hidden": true
    }
   },
   "outputs": [],
   "source": []
  },
  {
   "cell_type": "markdown",
   "metadata": {
    "id": "G_jPIYcK68_p"
   },
   "source": [
    "### Callbacks"
   ]
  },
  {
   "cell_type": "code",
   "execution_count": 30,
   "metadata": {
    "id": "sZy91pSWTfPc",
    "tags": []
   },
   "outputs": [],
   "source": [
    "from tensorflow.keras import callbacks\n",
    " \n",
    "class My_Callback(callbacks.Callback):     # Класс My_Callback унаследовал свойства класса Callback\n",
    "    def on_train_begin(self, logs={}):           # Функция, которая выполняется в начале обучения \n",
    "        return\n",
    " \n",
    "    def on_train_end(self, logs={}):             # Функция, которая выполняется в конце обучения \n",
    "        return\n",
    " \n",
    "    def on_epoch_begin(self, logs={}):           # В начале каждой эпохи \n",
    "        return\n",
    " \n",
    "    def on_epoch_end(self, epoch, logs={}): \n",
    "        # В конце каждой эпохи\n",
    "        return\n",
    " \n",
    "    def on_batch_begin(self, batch, logs={}):    # В начале батча\n",
    "        return\n",
    " \n",
    "    def on_batch_end(self, batch, logs={}):      # В конце батча \n",
    "        return"
   ]
  },
  {
   "cell_type": "markdown",
   "metadata": {
    "id": "vLRyEtQlTeQy"
   },
   "source": [
    "В keras уже есть несколько удобных callback:"
   ]
  },
  {
   "cell_type": "code",
   "execution_count": 31,
   "metadata": {
    "id": "w_oTi5f868_p",
    "tags": []
   },
   "outputs": [],
   "source": [
    "from tensorflow.keras.callbacks import EarlyStopping,LearningRateScheduler,ReduceLROnPlateau,ModelCheckpoint"
   ]
  },
  {
   "cell_type": "code",
   "execution_count": 32,
   "metadata": {
    "colab": {
     "base_uri": "https://localhost:8080/"
    },
    "id": "xpVeatDZ68_p",
    "outputId": "e08bb190-d133-425c-9bb2-9e5b1e4dd9f4"
   },
   "outputs": [
    {
     "data": {
      "text/plain": [
       "tensorflow.python.keras.callbacks.ModelCheckpoint"
      ]
     },
     "execution_count": 32,
     "metadata": {},
     "output_type": "execute_result"
    }
   ],
   "source": [
    "EarlyStopping # останавливает обучение если наша метрика не меняет n эпох\n",
    "LearningRateScheduler # меняет наш learning_rate по расписанию\n",
    "ReduceLROnPlateau # понижает на LR если не происходит улучшения\n",
    "ModelCheckpoint # сохраняет нашу лучшую модель"
   ]
  },
  {
   "cell_type": "code",
   "execution_count": 32,
   "metadata": {
    "id": "2bxwNzuM68_q",
    "tags": []
   },
   "outputs": [],
   "source": [
    "early_stop = EarlyStopping(patience=3)\n",
    "reduce_on_plateau = ReduceLROnPlateau(patience=3)\n",
    "# filepath=\"./weights-improvement-{epoch:02d}-{val_categorical_accuracy:.2f}.hdf5\"\n",
    "filepath=\"./weights-improvement.hdf5\"\n",
    "model_checkpoing = ModelCheckpoint(filepath,\n",
    "                                   save_best_only=True,\n",
    "                                  save_weights_only=True)"
   ]
  },
  {
   "cell_type": "code",
   "execution_count": 33,
   "metadata": {
    "id": "VTHcOuZ168_q",
    "tags": []
   },
   "outputs": [],
   "source": [
    "def create_simple_model():\n",
    "    model = Sequential(name = 'simple_model')\n",
    "    model.add(L.InputLayer(input_shape = (28,28))) \n",
    "    model.add(L.Flatten()) \n",
    "    model.add(L.Dense(100,  kernel_initializer='random_normal',name='First',activation='relu'))\n",
    "    model.add(L.Dense(100,  kernel_initializer='random_normal',name='Second',activation='relu'))\n",
    "    model.add(L.Dense(10, kernel_initializer = 'random_normal',name='Output',activation='softmax'))\n",
    "    opt = keras.optimizers.Adam(learning_rate=1e-4) \n",
    "    model.compile(optimizer=opt,loss='categorical_crossentropy',\n",
    "                 metrics=[\"categorical_accuracy\"]) \n",
    "    return model\n"
   ]
  },
  {
   "cell_type": "code",
   "execution_count": 34,
   "metadata": {
    "colab": {
     "base_uri": "https://localhost:8080/"
    },
    "id": "pOdgeYz068_r",
    "outputId": "c73ef2aa-04ed-4dd9-c064-b97216a5830e",
    "scrolled": true
   },
   "outputs": [
    {
     "name": "stdout",
     "output_type": "stream",
     "text": [
      "Epoch 1/10\n",
      "100/100 [==============================] - 1s 9ms/step - loss: 2.0177 - categorical_accuracy: 0.5125 - val_loss: 1.5727 - val_categorical_accuracy: 0.6368\n",
      "Epoch 2/10\n",
      "100/100 [==============================] - 1s 7ms/step - loss: 1.1925 - categorical_accuracy: 0.6537 - val_loss: 0.9608 - val_categorical_accuracy: 0.6664\n",
      "Epoch 3/10\n",
      "100/100 [==============================] - 1s 7ms/step - loss: 0.8469 - categorical_accuracy: 0.6909 - val_loss: 0.7866 - val_categorical_accuracy: 0.7060\n",
      "Epoch 4/10\n",
      "100/100 [==============================] - 1s 8ms/step - loss: 0.7232 - categorical_accuracy: 0.7393 - val_loss: 0.6996 - val_categorical_accuracy: 0.7499\n",
      "Epoch 5/10\n",
      "100/100 [==============================] - 1s 7ms/step - loss: 0.6509 - categorical_accuracy: 0.7718 - val_loss: 0.6418 - val_categorical_accuracy: 0.7787\n",
      "Epoch 6/10\n",
      "100/100 [==============================] - 1s 7ms/step - loss: 0.6017 - categorical_accuracy: 0.7929 - val_loss: 0.5990 - val_categorical_accuracy: 0.7968\n",
      "Epoch 7/10\n",
      "100/100 [==============================] - 1s 7ms/step - loss: 0.5662 - categorical_accuracy: 0.8060 - val_loss: 0.5698 - val_categorical_accuracy: 0.8068\n",
      "Epoch 8/10\n",
      "100/100 [==============================] - 1s 7ms/step - loss: 0.5406 - categorical_accuracy: 0.8147 - val_loss: 0.5470 - val_categorical_accuracy: 0.8150\n",
      "Epoch 9/10\n",
      "100/100 [==============================] - 1s 7ms/step - loss: 0.5190 - categorical_accuracy: 0.8231 - val_loss: 0.5282 - val_categorical_accuracy: 0.8211\n",
      "Epoch 10/10\n",
      "100/100 [==============================] - 1s 7ms/step - loss: 0.5027 - categorical_accuracy: 0.8280 - val_loss: 0.5139 - val_categorical_accuracy: 0.8266\n"
     ]
    }
   ],
   "source": [
    "model = create_simple_model()\n",
    "\n",
    "history = model.fit(X_train,y_train_ohe,batch_size=500,epochs=10,\n",
    "                     validation_data = (X_val,y_val_ohe),\n",
    "                    callbacks = [early_stop,reduce_on_plateau,model_checkpoing])\n"
   ]
  },
  {
   "cell_type": "code",
   "execution_count": 35,
   "metadata": {
    "id": "CivZFwiU68_r",
    "tags": []
   },
   "outputs": [],
   "source": [
    "model.load_weights('./weights-improvement.hdf5')"
   ]
  },
  {
   "cell_type": "code",
   "execution_count": 36,
   "metadata": {
    "colab": {
     "base_uri": "https://localhost:8080/"
    },
    "id": "Lls1Xz6H68_s",
    "outputId": "87d05c1e-9dbc-43f7-8000-bf07423581cc",
    "scrolled": true
   },
   "outputs": [
    {
     "name": "stdout",
     "output_type": "stream",
     "text": [
      "Epoch 1/10\n",
      "100/100 [==============================] - 1s 8ms/step - loss: 1.9862 - categorical_accuracy: 0.4591 - val_loss: 1.5363 - val_categorical_accuracy: 0.6423\n",
      "Epoch 2/10\n",
      "100/100 [==============================] - 1s 7ms/step - loss: 1.1686 - categorical_accuracy: 0.6707 - val_loss: 0.9333 - val_categorical_accuracy: 0.6933\n",
      "Epoch 3/10\n",
      "100/100 [==============================] - 1s 8ms/step - loss: 0.8152 - categorical_accuracy: 0.7263 - val_loss: 0.7525 - val_categorical_accuracy: 0.7376\n",
      "Epoch 4/10\n",
      "100/100 [==============================] - 1s 8ms/step - loss: 0.6867 - categorical_accuracy: 0.7645 - val_loss: 0.6649 - val_categorical_accuracy: 0.7693\n",
      "Epoch 5/10\n",
      "100/100 [==============================] - 1s 7ms/step - loss: 0.6167 - categorical_accuracy: 0.7890 - val_loss: 0.6110 - val_categorical_accuracy: 0.7906\n",
      "Epoch 6/10\n",
      "100/100 [==============================] - 1s 7ms/step - loss: 0.5718 - categorical_accuracy: 0.8056 - val_loss: 0.5710 - val_categorical_accuracy: 0.8048\n",
      "Epoch 7/10\n",
      "100/100 [==============================] - 1s 6ms/step - loss: 0.5399 - categorical_accuracy: 0.8154 - val_loss: 0.5446 - val_categorical_accuracy: 0.8157\n",
      "Epoch 8/10\n",
      "100/100 [==============================] - 1s 7ms/step - loss: 0.5173 - categorical_accuracy: 0.8224 - val_loss: 0.5250 - val_categorical_accuracy: 0.8231\n",
      "Epoch 9/10\n",
      "100/100 [==============================] - 1s 7ms/step - loss: 0.4988 - categorical_accuracy: 0.8291 - val_loss: 0.5076 - val_categorical_accuracy: 0.8274\n",
      "Epoch 10/10\n",
      "100/100 [==============================] - 1s 7ms/step - loss: 0.4846 - categorical_accuracy: 0.8333 - val_loss: 0.4958 - val_categorical_accuracy: 0.8306\n"
     ]
    }
   ],
   "source": [
    "#Сохранение целой модели\n",
    "filepath=\"./full_model_improvement.hdf5\"\n",
    "model_checkpoing = ModelCheckpoint(filepath,\n",
    "                                   save_best_only=True,\n",
    "                                  save_weights_only=False)\n",
    "simple_model = create_simple_model()\n",
    "\n",
    "history = simple_model.fit(X_train,y_train_ohe,batch_size=500,epochs=10,\n",
    "                     validation_data = (X_val,y_val_ohe),\n",
    "                    callbacks = [early_stop,reduce_on_plateau,model_checkpoing])"
   ]
  },
  {
   "cell_type": "code",
   "execution_count": 37,
   "metadata": {
    "id": "q00Ap9nP68_s",
    "tags": []
   },
   "outputs": [],
   "source": [
    "simple_model = keras.models.load_model(filepath)"
   ]
  },
  {
   "cell_type": "code",
   "execution_count": 38,
   "metadata": {
    "colab": {
     "base_uri": "https://localhost:8080/"
    },
    "id": "dnuFjvfc68_s",
    "outputId": "3a0682c5-15ef-412a-e7cd-519a7bd4ba4f"
   },
   "outputs": [
    {
     "name": "stdout",
     "output_type": "stream",
     "text": [
      "20/20 [==============================] - 0s 5ms/step - loss: 0.4958 - categorical_accuracy: 0.8306\n"
     ]
    },
    {
     "data": {
      "text/plain": [
       "[0.495787650346756, 0.8306000232696533]"
      ]
     },
     "execution_count": 38,
     "metadata": {},
     "output_type": "execute_result"
    }
   ],
   "source": [
    "simple_model.evaluate(x=X_val,y=y_val_ohe, batch_size=500)"
   ]
  },
  {
   "cell_type": "code",
   "execution_count": 41,
   "metadata": {
    "id": "6InD40GJ68_t",
    "tags": []
   },
   "outputs": [],
   "source": [
    "from tensorflow.keras import callbacks\n",
    "\n",
    "class Printlogs(callbacks.Callback):\n",
    "\n",
    "    def on_epoch_end(self, epoch, logs):\n",
    "        if epoch % 3 == 0:\n",
    "            print(1)"
   ]
  },
  {
   "cell_type": "code",
   "execution_count": 42,
   "metadata": {
    "id": "VRln5jqM68_u",
    "tags": []
   },
   "outputs": [],
   "source": [
    "simple_model = create_simple_model()\n",
    "our_callback = Printlogs()"
   ]
  },
  {
   "cell_type": "code",
   "execution_count": 43,
   "metadata": {
    "colab": {
     "base_uri": "https://localhost:8080/"
    },
    "id": "OuICZLZ_68_v",
    "outputId": "2c98143b-ff50-4c32-f922-5072b5da1455"
   },
   "outputs": [
    {
     "name": "stdout",
     "output_type": "stream",
     "text": [
      "Epoch 1/10\n",
      "100/100 [==============================] - 1s 8ms/step - loss: 2.0014 - categorical_accuracy: 0.3751 - val_loss: 1.5732 - val_categorical_accuracy: 0.5884\n",
      "1\n",
      "Epoch 2/10\n",
      "100/100 [==============================] - 1s 7ms/step - loss: 1.2301 - categorical_accuracy: 0.6510 - val_loss: 0.9959 - val_categorical_accuracy: 0.6729\n",
      "Epoch 3/10\n",
      "100/100 [==============================] - 1s 7ms/step - loss: 0.8702 - categorical_accuracy: 0.7061 - val_loss: 0.7983 - val_categorical_accuracy: 0.7212\n",
      "Epoch 4/10\n",
      "100/100 [==============================] - 1s 7ms/step - loss: 0.7285 - categorical_accuracy: 0.7470 - val_loss: 0.7000 - val_categorical_accuracy: 0.7532\n",
      "1\n",
      "Epoch 5/10\n",
      "100/100 [==============================] - 1s 7ms/step - loss: 0.6501 - categorical_accuracy: 0.7735 - val_loss: 0.6391 - val_categorical_accuracy: 0.7768\n",
      "Epoch 6/10\n",
      "100/100 [==============================] - 1s 7ms/step - loss: 0.5993 - categorical_accuracy: 0.7927 - val_loss: 0.5956 - val_categorical_accuracy: 0.7930\n",
      "Epoch 7/10\n",
      "100/100 [==============================] - 1s 7ms/step - loss: 0.5635 - categorical_accuracy: 0.8046 - val_loss: 0.5660 - val_categorical_accuracy: 0.8061\n",
      "1\n",
      "Epoch 8/10\n",
      "100/100 [==============================] - 1s 7ms/step - loss: 0.5375 - categorical_accuracy: 0.8144 - val_loss: 0.5425 - val_categorical_accuracy: 0.8156\n",
      "Epoch 9/10\n",
      "100/100 [==============================] - 1s 7ms/step - loss: 0.5159 - categorical_accuracy: 0.8230 - val_loss: 0.5225 - val_categorical_accuracy: 0.8196\n",
      "Epoch 10/10\n",
      "100/100 [==============================] - 1s 8ms/step - loss: 0.4996 - categorical_accuracy: 0.8275 - val_loss: 0.5084 - val_categorical_accuracy: 0.8234\n",
      "1\n"
     ]
    }
   ],
   "source": [
    "history = simple_model.fit(X_train,y_train_ohe,batch_size=500,epochs=10,\n",
    "                     validation_data = (X_val,y_val_ohe),\n",
    "                    callbacks = [our_callback],\n",
    "                           verbose=1)"
   ]
  },
  {
   "cell_type": "code",
   "execution_count": 44,
   "metadata": {
    "colab": {
     "base_uri": "https://localhost:8080/"
    },
    "id": "liqplLns68_v",
    "outputId": "69449086-057a-47ec-9821-60cf7ccb89cb",
    "scrolled": true
   },
   "outputs": [
    {
     "name": "stdout",
     "output_type": "stream",
     "text": [
      "0.10000000149011612\n",
      "0.05000000074505806\n",
      "0.02500000037252903\n",
      "0.012500000186264515\n",
      "0.0062500000931322575\n",
      "0.0031250000465661287\n",
      "0.0015625000232830644\n",
      "0.0007812500116415322\n",
      "0.0003906250058207661\n",
      "0.00019531250291038305\n",
      "9.765625145519152e-05\n",
      "4.882812572759576e-05\n",
      "2.441406286379788e-05\n",
      "1.220703143189894e-05\n",
      "6.10351571594947e-06\n",
      "3.051757857974735e-06\n",
      "1.5258789289873675e-06\n",
      "7.629394644936838e-07\n",
      "3.814697322468419e-07\n",
      "1.9073486612342094e-07\n"
     ]
    }
   ],
   "source": [
    "import numpy as np\n",
    "# Напишем кастомное изменение скорости обучения\n",
    "INIT_LR=0.1\n",
    "# Стратегия для понижения скорости\n",
    "def lr_scheduler(epoch):\n",
    "    drop = 0.5\n",
    "    epochs_drop = 1.0\n",
    "    lrate = INIT_LR * np.math.pow(drop, np.math.floor((epoch)/epochs_drop))\n",
    "    return lrate\n",
    "\n",
    "lrate = LearningRateScheduler(lr_scheduler)\n",
    "\n",
    "# класс чтобы отслеживать бесчинства\n",
    "class Print_lr(callbacks.Callback):\n",
    "    def on_epoch_end(self, epoch, logs):\n",
    "        print(float(tf.keras.backend.get_value(self.model.optimizer.lr)))\n",
    "        # чтобы установить свой LR надо указать\n",
    "        # LR_OUR = ....\n",
    "        # tf.keras.backend.set_value(self.model.optimizer.lr, LR_OUR)\n",
    "\n",
    "\n",
    "simple_model = create_simple_model()\n",
    "history = simple_model.fit(X_train,y_train_ohe,batch_size=500,epochs=20,\n",
    "                     validation_data = (X_val,y_val_ohe),\n",
    "                    callbacks = [lrate,Print_lr()],\n",
    "                           verbose=0)"
   ]
  },
  {
   "cell_type": "markdown",
   "metadata": {
    "id": "61Xek_LC68_x"
   },
   "source": [
    "### Кастомные loss и метрики\n",
    "Что уже есть\n",
    "https://keras.io/api/metrics/\n",
    "\n",
    "https://keras.io/api/losses/"
   ]
  },
  {
   "cell_type": "code",
   "execution_count": 45,
   "metadata": {
    "id": "HDZus5sR68_x",
    "tags": []
   },
   "outputs": [],
   "source": [
    "celsius    = np.array([-40, -10,  0,  8, 15, 22,  38],  dtype=float)\n",
    "fahrenheit = np.array([-40,  14, 32, 46, 59, 72, 100],  dtype=float)"
   ]
  },
  {
   "cell_type": "code",
   "execution_count": 46,
   "metadata": {
    "colab": {
     "base_uri": "https://localhost:8080/"
    },
    "id": "7tvJOfVC68_y",
    "outputId": "1cc42fa5-5359-4566-812f-d6ff3ab86c14"
   },
   "outputs": [
    {
     "name": "stdout",
     "output_type": "stream",
     "text": [
      "Epoch 1/3\n",
      "1/1 [==============================] - 0s 323ms/step - loss: 4206.1763\n",
      "Epoch 2/3\n",
      "1/1 [==============================] - 0s 4ms/step - loss: 4203.4053\n",
      "Epoch 3/3\n",
      "1/1 [==============================] - 0s 2ms/step - loss: 4200.6357\n"
     ]
    },
    {
     "data": {
      "text/plain": [
       "<tensorflow.python.keras.callbacks.History at 0x1c009fc35e0>"
      ]
     },
     "execution_count": 46,
     "metadata": {},
     "output_type": "execute_result"
    }
   ],
   "source": [
    "model = Sequential()\n",
    "model.add(L.Dense(1))\n",
    "\n",
    "opt = tf.keras.optimizers.Adam( )\n",
    "\n",
    "model.compile(loss='mse', optimizer=opt)\n",
    "model.fit(celsius, fahrenheit,  epochs=3, verbose=1)\n",
    "\n"
   ]
  },
  {
   "cell_type": "code",
   "execution_count": 47,
   "metadata": {
    "id": "m67xvrZU68_z",
    "tags": []
   },
   "outputs": [],
   "source": [
    "def custom_loss_function(y_true, y_pred):\n",
    "    squared_difference = tf.square(y_true - y_pred)\n",
    "    return tf.reduce_mean(squared_difference, axis=-1)"
   ]
  },
  {
   "cell_type": "code",
   "execution_count": 48,
   "metadata": {
    "colab": {
     "base_uri": "https://localhost:8080/"
    },
    "id": "mLysrxg668_z",
    "outputId": "424a2829-06c8-4a8d-b618-b2a8b8eb2b5f"
   },
   "outputs": [
    {
     "name": "stdout",
     "output_type": "stream",
     "text": [
      "Epoch 1/3\n",
      "1/1 [==============================] - 0s 277ms/step - loss: 4925.2344\n",
      "Epoch 2/3\n",
      "1/1 [==============================] - 0s 11ms/step - loss: 4922.1772\n",
      "Epoch 3/3\n",
      "1/1 [==============================] - 0s 3ms/step - loss: 4919.1216\n",
      "Wall time: 355 ms\n"
     ]
    },
    {
     "data": {
      "text/plain": [
       "<tensorflow.python.keras.callbacks.History at 0x1c00a07ad60>"
      ]
     },
     "execution_count": 48,
     "metadata": {},
     "output_type": "execute_result"
    }
   ],
   "source": [
    "%%time\n",
    "model = Sequential()\n",
    "model.add(L.Dense(1))\n",
    "\n",
    "opt = tf.keras.optimizers.Adam( )\n",
    "\n",
    "model.compile(loss=custom_loss_function, optimizer=opt)\n",
    "model.fit(celsius, fahrenheit,  epochs=3,verbose=1)\n",
    "\n"
   ]
  },
  {
   "cell_type": "code",
   "execution_count": 51,
   "metadata": {
    "id": "2-ZLARVm68_0",
    "tags": []
   },
   "outputs": [],
   "source": [
    "## тоже самое можно делать и с метриками. Также можно следить сразу за несколькими метриками, что бывает полезно.\n",
    "## Если хотим добавить совсем сложную логику то мы это будем делать через callback"
   ]
  },
  {
   "cell_type": "markdown",
   "metadata": {
    "id": "5QOVNKjv68_0"
   },
   "source": [
    "В этой тетрадке немного поработаем с градусами по цельсию и фаренгейту! Снова попробуем восстановить формулу \n",
    "\n",
    "$$ f = c \\times 1.8 + 32 $$"
   ]
  },
  {
   "cell_type": "code",
   "execution_count": 52,
   "metadata": {
    "colab": {
     "base_uri": "https://localhost:8080/"
    },
    "id": "VX867YEI68_0",
    "outputId": "89fef3ae-ec71-46bd-b6c5-13c41f64f92f"
   },
   "outputs": [
    {
     "data": {
      "text/plain": [
       "<tensorflow.python.keras.callbacks.History at 0x1c00a137ac0>"
      ]
     },
     "execution_count": 52,
     "metadata": {},
     "output_type": "execute_result"
    }
   ],
   "source": [
    "model = Sequential()\n",
    "model.add(L.Dense(1,name='our_neural'))\n",
    "opt = tf.keras.optimizers.Adam(0.1)\n",
    "\n",
    "model.compile(loss='mse', optimizer=opt)\n",
    "model.fit(celsius, fahrenheit,  epochs=600, verbose=0)"
   ]
  },
  {
   "cell_type": "code",
   "execution_count": 50,
   "metadata": {
    "colab": {
     "base_uri": "https://localhost:8080/"
    },
    "id": "W8-rDxs368_1",
    "outputId": "08662aa0-6a5a-4b50-b491-802d7edc4f2d"
   },
   "outputs": [
    {
     "data": {
      "text/plain": [
       "[<tf.Variable 'our_neural/kernel:0' shape=(1, 1) dtype=float32, numpy=array([[1.8125975]], dtype=float32)>,\n",
       " <tf.Variable 'our_neural/bias:0' shape=(1,) dtype=float32, numpy=array([30.256989], dtype=float32)>]"
      ]
     },
     "execution_count": 50,
     "metadata": {},
     "output_type": "execute_result"
    }
   ],
   "source": [
    "## элементарная задача, но из-за того, что данные не скалированы сходились вечность\n",
    "our_layer = model.get_layer(name='our_neural')\n",
    "our_layer.variables"
   ]
  },
  {
   "cell_type": "code",
   "execution_count": 53,
   "metadata": {
    "colab": {
     "base_uri": "https://localhost:8080/"
    },
    "id": "5DOZRbnl68_1",
    "outputId": "52968d9f-e986-40b3-a868-fea92f196fb3"
   },
   "outputs": [
    {
     "data": {
      "text/plain": [
       "<tf.Tensor: shape=(7, 1), dtype=float32, numpy=\n",
       "array([[-42.24691 ],\n",
       "       [ 12.131014],\n",
       "       [ 30.256989],\n",
       "       [ 44.757767],\n",
       "       [ 57.445953],\n",
       "       [ 70.13413 ],\n",
       "       [ 99.1357  ]], dtype=float32)>"
      ]
     },
     "execution_count": 53,
     "metadata": {},
     "output_type": "execute_result"
    }
   ],
   "source": [
    "our_layer(np.array(celsius).reshape((7,1))) ## Берем прогнозы от слоя"
   ]
  },
  {
   "cell_type": "markdown",
   "metadata": {
    "id": "vG6oK1Ir68_2"
   },
   "source": [
    "Есть понимание, как определить в callback на какой эпохе мы получили правильное значение весов?"
   ]
  },
  {
   "cell_type": "markdown",
   "metadata": {
    "id": "Ym-02Wqd68_2"
   },
   "source": [
    "### Пишем класс нейронки с TF и keras вместе"
   ]
  },
  {
   "cell_type": "code",
   "execution_count": 54,
   "metadata": {
    "id": "eNmIGwab68_2",
    "tags": []
   },
   "outputs": [],
   "source": [
    "# транспонировали выборку\n",
    "x_train = celsius[:,None]\n",
    "y_train = fahrenheit[:,None]"
   ]
  },
  {
   "cell_type": "code",
   "execution_count": 55,
   "metadata": {
    "id": "sH7EOJjH68_3",
    "tags": []
   },
   "outputs": [],
   "source": [
    "class our_NN(Model):\n",
    "    \n",
    "    def __init__(self, n_hidden_neurons):\n",
    "        super(our_NN, self).__init__()\n",
    "        self.fc1 = L.Dense(n_hidden_neurons, kernel_initializer='glorot_uniform', activation='relu')\n",
    "        self.fc2 = L.Dense(n_hidden_neurons, kernel_initializer='glorot_uniform')\n",
    "\n",
    "    def encode(self, x):\n",
    "        x = self.fc1(x)\n",
    "        x = self.fc2(x)\n",
    "        return x"
   ]
  },
  {
   "cell_type": "code",
   "execution_count": 57,
   "metadata": {
    "colab": {
     "base_uri": "https://localhost:8080/"
    },
    "id": "u7soam4x68_3",
    "outputId": "9bc3c19d-f22b-4474-f9fd-5db5db9cb976"
   },
   "outputs": [
    {
     "data": {
      "text/plain": [
       "<tf.Tensor: shape=(7, 1), dtype=float32, numpy=\n",
       "array([[0.       ],\n",
       "       [0.       ],\n",
       "       [0.       ],\n",
       "       [1.083623 ],\n",
       "       [2.0317934],\n",
       "       [2.9799635],\n",
       "       [5.1472096]], dtype=float32)>"
      ]
     },
     "execution_count": 57,
     "metadata": {},
     "output_type": "execute_result"
    }
   ],
   "source": [
    "model = our_NN(1)\n",
    "model.encode(x_train)"
   ]
  },
  {
   "cell_type": "code",
   "execution_count": 58,
   "metadata": {
    "id": "2ZU5jrLP68_3",
    "tags": []
   },
   "outputs": [],
   "source": [
    "# Ошибка для модели\n",
    "def mean_square(y_pred, y_true):\n",
    "    return tf.reduce_mean((y_pred-y_true)**2)\n",
    "\n",
    "# оптимизатор \n",
    "optimizer = tf.optimizers.SGD(learning_rate=0.001)\n",
    "\n",
    "# процесс оптимизации\n",
    "def model_train(X, Y):\n",
    "\n",
    "    # находим loss и пробрасываем градиент\n",
    "    with tf.GradientTape() as g:\n",
    "        pred = model.encode(X)\n",
    "        loss = mean_square(pred, Y)\n",
    "\n",
    "    # Вычисляем градиенты\n",
    "    gradients = g.gradient(loss, model.variables)\n",
    "    \n",
    "    # Обновляем веса a и b в ходе одной итерации спуска \n",
    "    optimizer.apply_gradients(zip(gradients, model.variables))"
   ]
  },
  {
   "cell_type": "code",
   "execution_count": 59,
   "metadata": {
    "colab": {
     "base_uri": "https://localhost:8080/"
    },
    "id": "CH229BUs68_4",
    "outputId": "cbed2f10-1fda-45c9-8b07-ab63a4b7c1ed"
   },
   "outputs": [
    {
     "name": "stdout",
     "output_type": "stream",
     "text": [
      "step: 0, loss: 1692.267456\n",
      "step: 100, loss: 2453.642822\n",
      "step: 200, loss: 1909.419922\n",
      "step: 300, loss: 1513.862915\n",
      "step: 400, loss: 1226.523071\n",
      "step: 500, loss: 1017.506409\n",
      "step: 600, loss: 864.999512\n",
      "step: 700, loss: 753.330566\n",
      "step: 800, loss: 671.292480\n",
      "step: 900, loss: 610.847534\n"
     ]
    }
   ],
   "source": [
    "#Обучение\n",
    "epochs = 1000 # число эпох \n",
    "\n",
    "for i in range(epochs):\n",
    "    \n",
    "    # Делаем щаг градиентного спуска \n",
    "    model_train(x_train, y_train)\n",
    "    \n",
    "    # Каждую сотую итерацию следим за тем, что произошло\n",
    "    if i%100 == 0:\n",
    "        y_pred = model.encode(x_train)\n",
    "        loss_val = mean_square(y_pred, y_train)\n",
    "        print(\"step: %i, loss: %f\" % (i, loss_val))"
   ]
  },
  {
   "cell_type": "markdown",
   "metadata": {
    "id": "7j8SPUUm68_4"
   },
   "source": [
    "#  Свой слой на Tensorflow для Keras\n",
    "\n",
    "Новые слои можно писать на основе керасовского класса `Layer`. Если прописать `help(tf.keras.layers.Layer)`, можно почитать про него. Если в кратце, нужно реализовать три части: \n",
    "\n",
    "* Конструктор, в нём мы описываем гиперпараметры \n",
    "* Метод `build`, в которм мы описываем все переменные \n",
    "* Метод `call`, который делает forward pass"
   ]
  },
  {
   "cell_type": "code",
   "execution_count": 60,
   "metadata": {
    "id": "aGqx5zUe68_5",
    "tags": []
   },
   "outputs": [],
   "source": [
    "class MyLinear(L.Layer):\n",
    "    \n",
    "    # Задаём консруктор \n",
    "    def __init__(self, units=32):\n",
    "        super(MyLinear, self).__init__()  # чтобы коректно унаследовались методы\n",
    "        self.units = units                # число нейронов\n",
    "\n",
    "    def build(self, input_shape):\n",
    "        # add_weight внутри build то же самое что и Variable, но совместимо с Keras\n",
    "        self.w = self.add_weight(shape=(input_shape[-1], self.units),\n",
    "                                 initializer='random_normal', \n",
    "                                 trainable=True)\n",
    "        \n",
    "        self.b = self.add_weight(shape=(self.units,),\n",
    "                                 initializer='random_normal', \n",
    "                                 trainable=True)\n",
    "\n",
    "    # Применение \n",
    "    def call(self, inputs):\n",
    "        # сразу делаем и линейное преобразование и ReLU (а почему бы и нет)\n",
    "        return tf.nn.relu(tf.matmul(inputs, self.w) + self.b) "
   ]
  },
  {
   "cell_type": "code",
   "execution_count": 61,
   "metadata": {
    "id": "8keBHRUo68_5",
    "tags": []
   },
   "outputs": [],
   "source": [
    "model_custom = Sequential(name = 'simple_model')\n",
    "model_custom.add(L.InputLayer(input_shape = (28,28))) \n",
    "model_custom.add(L.Flatten()) \n",
    "model_custom.add(L.Dense(100,  kernel_initializer='random_normal',name='First',activation='relu'))\n",
    "model_custom.add(MyLinear()) ### Самый красивый слой\n",
    "model_custom.add(L.Dense(10, kernel_initializer = 'random_normal',name='Output',activation='softmax'))\n",
    "opt = keras.optimizers.Adam(learning_rate=1e-4) \n",
    "model_custom.compile(optimizer=opt,loss='categorical_crossentropy',\n",
    "             metrics=[\"categorical_accuracy\"]) "
   ]
  },
  {
   "cell_type": "code",
   "execution_count": 62,
   "metadata": {
    "colab": {
     "base_uri": "https://localhost:8080/"
    },
    "id": "s24YW0We68_6",
    "outputId": "f8c7d962-13b3-4caa-d1ac-2d077a83d12c"
   },
   "outputs": [
    {
     "name": "stdout",
     "output_type": "stream",
     "text": [
      "Epoch 1/10\n",
      "100/100 [==============================] - 1s 8ms/step - loss: 2.1393 - categorical_accuracy: 0.3320 - val_loss: 1.8856 - val_categorical_accuracy: 0.4772\n",
      "Epoch 2/10\n",
      "100/100 [==============================] - 1s 6ms/step - loss: 1.5653 - categorical_accuracy: 0.5544 - val_loss: 1.2880 - val_categorical_accuracy: 0.6240\n",
      "Epoch 3/10\n",
      "100/100 [==============================] - 1s 6ms/step - loss: 1.1060 - categorical_accuracy: 0.6494 - val_loss: 0.9807 - val_categorical_accuracy: 0.6600\n",
      "Epoch 4/10\n",
      "100/100 [==============================] - 1s 6ms/step - loss: 0.8918 - categorical_accuracy: 0.6785 - val_loss: 0.8435 - val_categorical_accuracy: 0.6829\n",
      "Epoch 5/10\n",
      "100/100 [==============================] - 1s 6ms/step - loss: 0.7889 - categorical_accuracy: 0.7063 - val_loss: 0.7673 - val_categorical_accuracy: 0.7132\n",
      "Epoch 6/10\n",
      "100/100 [==============================] - 1s 6ms/step - loss: 0.7246 - categorical_accuracy: 0.7340 - val_loss: 0.7136 - val_categorical_accuracy: 0.7379\n",
      "Epoch 7/10\n",
      "100/100 [==============================] - 1s 6ms/step - loss: 0.6768 - categorical_accuracy: 0.7570 - val_loss: 0.6723 - val_categorical_accuracy: 0.7609\n",
      "Epoch 8/10\n",
      "100/100 [==============================] - 1s 6ms/step - loss: 0.6385 - categorical_accuracy: 0.7742 - val_loss: 0.6381 - val_categorical_accuracy: 0.7781\n",
      "Epoch 9/10\n",
      "100/100 [==============================] - 1s 6ms/step - loss: 0.6071 - categorical_accuracy: 0.7873 - val_loss: 0.6114 - val_categorical_accuracy: 0.7850\n",
      "Epoch 10/10\n",
      "100/100 [==============================] - 1s 6ms/step - loss: 0.5821 - categorical_accuracy: 0.7959 - val_loss: 0.5895 - val_categorical_accuracy: 0.7928\n"
     ]
    }
   ],
   "source": [
    "history = model_custom.fit(X_train,y_train_ohe,batch_size=500,epochs=10,\n",
    "                     validation_data = (X_val,y_val_ohe),\n",
    "                    callbacks = [early_stop,reduce_on_plateau],verbose=1)"
   ]
  },
  {
   "cell_type": "code",
   "execution_count": null,
   "metadata": {
    "id": "A7YgzECBkqje",
    "jupyter": {
     "outputs_hidden": true
    }
   },
   "outputs": [],
   "source": []
  },
  {
   "cell_type": "markdown",
   "metadata": {
    "id": "ar7JpNOIkq3Q"
   },
   "source": [
    "### Выход промежуточного слоя"
   ]
  },
  {
   "cell_type": "markdown",
   "metadata": {
    "id": "8u1PSjpg68_6"
   },
   "source": [
    "Ну и нам остался пример, как взять срез модели. Посмотреть прогнозы в середине"
   ]
  },
  {
   "cell_type": "code",
   "execution_count": 63,
   "metadata": {
    "id": "w2KSffls68_6",
    "tags": []
   },
   "outputs": [],
   "source": [
    "model = create_simple_model()"
   ]
  },
  {
   "cell_type": "code",
   "execution_count": 64,
   "metadata": {
    "colab": {
     "base_uri": "https://localhost:8080/"
    },
    "id": "0rlAXu9m68_7",
    "outputId": "de28c6cb-2f0f-4fbd-f7cd-249bdff4a185"
   },
   "outputs": [
    {
     "name": "stdout",
     "output_type": "stream",
     "text": [
      "Epoch 1/2\n",
      "100/100 [==============================] - 1s 8ms/step - loss: 2.0141 - categorical_accuracy: 0.4015 - val_loss: 1.5816 - val_categorical_accuracy: 0.5571\n",
      "Epoch 2/2\n",
      "100/100 [==============================] - 1s 6ms/step - loss: 1.2068 - categorical_accuracy: 0.6490 - val_loss: 0.9786 - val_categorical_accuracy: 0.6737\n"
     ]
    }
   ],
   "source": [
    "history = model.fit(X_train,y_train_ohe,batch_size=500,epochs=2,\n",
    "                     validation_data = (X_val,y_val_ohe),\n",
    "                    callbacks = [early_stop,reduce_on_plateau],verbose=1)"
   ]
  },
  {
   "cell_type": "code",
   "execution_count": 65,
   "metadata": {
    "colab": {
     "base_uri": "https://localhost:8080/"
    },
    "id": "LPaTA856lOPe",
    "outputId": "be048f0f-3058-4f4e-b56d-ca456d80facd"
   },
   "outputs": [
    {
     "name": "stdout",
     "output_type": "stream",
     "text": [
      "Model: \"simple_model\"\n",
      "_________________________________________________________________\n",
      "Layer (type)                 Output Shape              Param #   \n",
      "=================================================================\n",
      "flatten_12 (Flatten)         (None, 784)               0         \n",
      "_________________________________________________________________\n",
      "First (Dense)                (None, 100)               78500     \n",
      "_________________________________________________________________\n",
      "Second (Dense)               (None, 100)               10100     \n",
      "_________________________________________________________________\n",
      "Output (Dense)               (None, 10)                1010      \n",
      "=================================================================\n",
      "Total params: 89,610\n",
      "Trainable params: 89,610\n",
      "Non-trainable params: 0\n",
      "_________________________________________________________________\n"
     ]
    }
   ],
   "source": [
    "model.summary()"
   ]
  },
  {
   "cell_type": "code",
   "execution_count": 68,
   "metadata": {
    "id": "kgDJmVlS68_7",
    "tags": []
   },
   "outputs": [],
   "source": [
    "# Извлекаем выход Second-слоя\n",
    "layer_output = model.layers[2].output\n",
    "\n",
    "# создаем модель, которая вернет выходы с учетом  входа\n",
    "activation_model = Model(inputs=model.input, outputs=layer_output)"
   ]
  },
  {
   "cell_type": "code",
   "execution_count": 69,
   "metadata": {
    "colab": {
     "base_uri": "https://localhost:8080/"
    },
    "id": "YeOcBnOXmBmI",
    "outputId": "09cdbc74-9073-4203-f71a-3fbcb8c0f1e5"
   },
   "outputs": [
    {
     "data": {
      "text/plain": [
       "<KerasTensor: shape=(None, 100) dtype=float32 (created by layer 'Second')>"
      ]
     },
     "execution_count": 69,
     "metadata": {},
     "output_type": "execute_result"
    }
   ],
   "source": [
    "layer_output"
   ]
  },
  {
   "cell_type": "code",
   "execution_count": 70,
   "metadata": {
    "id": "efqnwemY68_7",
    "tags": []
   },
   "outputs": [],
   "source": [
    "prediction = activation_model.predict(X_val)"
   ]
  },
  {
   "cell_type": "code",
   "execution_count": 71,
   "metadata": {
    "colab": {
     "base_uri": "https://localhost:8080/"
    },
    "id": "Qg3yfl7T68_8",
    "outputId": "a0713772-6de7-4c08-ade0-f5c572df02eb"
   },
   "outputs": [
    {
     "data": {
      "text/plain": [
       "array([[0.        , 0.23882401, 0.742961  , ..., 0.65239346, 1.0489881 ,\n",
       "        0.        ],\n",
       "       [0.        , 0.34061638, 0.09381945, ..., 0.9182793 , 1.7495959 ,\n",
       "        0.        ],\n",
       "       [0.        , 0.8041423 , 1.7963622 , ..., 0.        , 0.        ,\n",
       "        0.        ],\n",
       "       ...,\n",
       "       [0.        , 1.2118459 , 1.8255436 , ..., 0.14990352, 0.2786148 ,\n",
       "        0.        ],\n",
       "       [0.        , 0.92095715, 1.3322022 , ..., 0.        , 0.02777912,\n",
       "        0.        ],\n",
       "       [0.        , 0.8411111 , 1.4093982 , ..., 0.        , 0.10837083,\n",
       "        0.        ]], dtype=float32)"
      ]
     },
     "execution_count": 71,
     "metadata": {},
     "output_type": "execute_result"
    }
   ],
   "source": [
    "prediction"
   ]
  },
  {
   "cell_type": "markdown",
   "metadata": {
    "id": "QabUI4sG68_8"
   },
   "source": [
    " Что сегодня не вошло:\n",
    " 1. Как переопределить градиенты для своих слоев (на уровне keras очень крайне неудобно, если уже занимаетесь этим то вряд ли пишете на верхнеуровневом фраемворке)\n",
    "\n",
    "2. Как работать с уже готовыми и обучеными моделями, дофичивать нейронки по кусочкам\n",
    "\n",
    "3. Generators - аналог (Sampler + collate_fn) в pytorch\n",
    "\n"
   ]
  },
  {
   "cell_type": "code",
   "execution_count": null,
   "metadata": {
    "collapsed": true,
    "id": "8mKyIIke68_9",
    "jupyter": {
     "outputs_hidden": true
    }
   },
   "outputs": [],
   "source": []
  },
  {
   "cell_type": "code",
   "execution_count": null,
   "metadata": {
    "collapsed": true,
    "id": "7Re8HXMV68_9",
    "jupyter": {
     "outputs_hidden": true
    }
   },
   "outputs": [],
   "source": []
  },
  {
   "cell_type": "code",
   "execution_count": null,
   "metadata": {
    "collapsed": true,
    "id": "8cydCm8RoC2Q",
    "jupyter": {
     "outputs_hidden": true
    }
   },
   "outputs": [],
   "source": []
  },
  {
   "cell_type": "code",
   "execution_count": null,
   "metadata": {
    "collapsed": true,
    "id": "ac0T4cUaoC7J",
    "jupyter": {
     "outputs_hidden": true
    }
   },
   "outputs": [],
   "source": []
  },
  {
   "cell_type": "code",
   "execution_count": null,
   "metadata": {
    "collapsed": true,
    "id": "vhLFBcW9oC-1",
    "jupyter": {
     "outputs_hidden": true
    }
   },
   "outputs": [],
   "source": []
  },
  {
   "cell_type": "markdown",
   "metadata": {
    "id": "PFgzoO7HR7wy"
   },
   "source": [
    "### Домашнее задание"
   ]
  },
  {
   "cell_type": "markdown",
   "metadata": {
    "id": "HgDUF3a4oOId"
   },
   "source": [
    "1. На датасете FashionMNIST (задача многоклассовой классификации) построить следующие нейронки. И обучить по 10 эпох\n",
    "2. Добавить различные сallbacks (EarlyStopping,LearningRateScheduler,ReduceLROnPlateau,ModelCheckpoint)"
   ]
  },
  {
   "cell_type": "code",
   "execution_count": 93,
   "metadata": {
    "id": "4JXa8OsZoa7c",
    "jupyter": {
     "outputs_hidden": true
    }
   },
   "outputs": [],
   "source": [
    "tf.random.set_seed(42)"
   ]
  },
  {
   "cell_type": "code",
   "execution_count": 94,
   "metadata": {},
   "outputs": [],
   "source": [
    "early_stop = EarlyStopping(patience=5)\n",
    "reduce_on_plateau = ReduceLROnPlateau(patience=3)\n",
    "filepath=\"./weights-improvement2.hdf5\"\n",
    "model_checkpoing = ModelCheckpoint(filepath,\n",
    "                                   save_best_only=True,\n",
    "                                  save_weights_only=True)"
   ]
  },
  {
   "cell_type": "code",
   "execution_count": 95,
   "metadata": {
    "id": "jXdkytmZ68_m",
    "jupyter": {
     "outputs_hidden": true
    }
   },
   "outputs": [],
   "source": [
    "## Соберите обычный 6ти слойный перспептрон\n",
    "def create_simple_model():\n",
    "    model = Sequential(name = 'first_model')\n",
    "    model.add(L.InputLayer(input_shape = (28,28))) \n",
    "    model.add(L.Flatten()) \n",
    "    model.add(L.Dense(100,  kernel_initializer='random_normal',name='1',activation='relu'))\n",
    "    model.add(L.Dense(100,  kernel_initializer='random_normal',name='2',activation='relu'))\n",
    "    model.add(L.Dense(100,  kernel_initializer='random_normal',name='3',activation='relu'))\n",
    "    model.add(L.Dense(100,  kernel_initializer='random_normal',name='4',activation='relu'))\n",
    "    model.add(L.Dense(100,  kernel_initializer='random_normal',name='5',activation='relu'))\n",
    "    model.add(L.Dense(100,  kernel_initializer='random_normal',name='6',activation='relu'))\n",
    "    model.add(L.Dense(10, kernel_initializer = 'random_normal',name='Output',activation='softmax'))\n",
    "    opt = keras.optimizers.Adam(learning_rate=1e-4) \n",
    "    model.compile(optimizer=opt,loss='categorical_crossentropy',\n",
    "                 metrics=[\"categorical_accuracy\"]) \n",
    "    return model\n",
    "\n",
    "model = create_simple_model()"
   ]
  },
  {
   "cell_type": "code",
   "execution_count": 96,
   "metadata": {},
   "outputs": [
    {
     "name": "stdout",
     "output_type": "stream",
     "text": [
      "Epoch 1/20\n",
      "125/125 [==============================] - 2s 9ms/step - loss: 2.1215 - categorical_accuracy: 0.2898 - val_loss: 1.4446 - val_categorical_accuracy: 0.4501\n",
      "Epoch 2/20\n",
      "125/125 [==============================] - 1s 8ms/step - loss: 1.0689 - categorical_accuracy: 0.5728 - val_loss: 0.9159 - val_categorical_accuracy: 0.6188\n",
      "Epoch 3/20\n",
      "125/125 [==============================] - 1s 8ms/step - loss: 0.8551 - categorical_accuracy: 0.6571 - val_loss: 0.8385 - val_categorical_accuracy: 0.6600\n",
      "Epoch 4/20\n",
      "125/125 [==============================] - 1s 8ms/step - loss: 0.8030 - categorical_accuracy: 0.6804 - val_loss: 0.8074 - val_categorical_accuracy: 0.6721\n",
      "Epoch 5/20\n",
      "125/125 [==============================] - 1s 8ms/step - loss: 0.7741 - categorical_accuracy: 0.6963 - val_loss: 0.7814 - val_categorical_accuracy: 0.6917\n",
      "Epoch 6/20\n",
      "125/125 [==============================] - 1s 9ms/step - loss: 0.7502 - categorical_accuracy: 0.7111 - val_loss: 0.7535 - val_categorical_accuracy: 0.7092\n",
      "Epoch 7/20\n",
      "125/125 [==============================] - 1s 8ms/step - loss: 0.7239 - categorical_accuracy: 0.7278 - val_loss: 0.7256 - val_categorical_accuracy: 0.7304\n",
      "Epoch 8/20\n",
      "125/125 [==============================] - 1s 9ms/step - loss: 0.6996 - categorical_accuracy: 0.7420 - val_loss: 0.7118 - val_categorical_accuracy: 0.7312\n",
      "Epoch 9/20\n",
      "125/125 [==============================] - 1s 8ms/step - loss: 0.6726 - categorical_accuracy: 0.7556 - val_loss: 0.6762 - val_categorical_accuracy: 0.7529\n",
      "Epoch 10/20\n",
      "125/125 [==============================] - 1s 8ms/step - loss: 0.6386 - categorical_accuracy: 0.7725 - val_loss: 0.6416 - val_categorical_accuracy: 0.7749\n",
      "Epoch 11/20\n",
      "125/125 [==============================] - 1s 9ms/step - loss: 0.6106 - categorical_accuracy: 0.7807 - val_loss: 0.6197 - val_categorical_accuracy: 0.7759\n",
      "Epoch 12/20\n",
      "125/125 [==============================] - 1s 11ms/step - loss: 0.5851 - categorical_accuracy: 0.7891 - val_loss: 0.5989 - val_categorical_accuracy: 0.7878\n",
      "Epoch 13/20\n",
      "125/125 [==============================] - 1s 9ms/step - loss: 0.5667 - categorical_accuracy: 0.7964 - val_loss: 0.5817 - val_categorical_accuracy: 0.7882\n",
      "Epoch 14/20\n",
      "125/125 [==============================] - 2s 12ms/step - loss: 0.5490 - categorical_accuracy: 0.8044 - val_loss: 0.5618 - val_categorical_accuracy: 0.7981\n",
      "Epoch 15/20\n",
      "125/125 [==============================] - 1s 11ms/step - loss: 0.5335 - categorical_accuracy: 0.8108 - val_loss: 0.5482 - val_categorical_accuracy: 0.8026\n",
      "Epoch 16/20\n",
      "125/125 [==============================] - 1s 10ms/step - loss: 0.5180 - categorical_accuracy: 0.8171 - val_loss: 0.5281 - val_categorical_accuracy: 0.8155\n",
      "Epoch 17/20\n",
      "125/125 [==============================] - 1s 9ms/step - loss: 0.5041 - categorical_accuracy: 0.8233 - val_loss: 0.5125 - val_categorical_accuracy: 0.8217\n",
      "Epoch 18/20\n",
      "125/125 [==============================] - 1s 10ms/step - loss: 0.4891 - categorical_accuracy: 0.8292 - val_loss: 0.5009 - val_categorical_accuracy: 0.8265\n",
      "Epoch 19/20\n",
      "125/125 [==============================] - 1s 9ms/step - loss: 0.4774 - categorical_accuracy: 0.8339 - val_loss: 0.5072 - val_categorical_accuracy: 0.8212\n",
      "Epoch 20/20\n",
      "125/125 [==============================] - 1s 8ms/step - loss: 0.4662 - categorical_accuracy: 0.8382 - val_loss: 0.4806 - val_categorical_accuracy: 0.8339\n"
     ]
    }
   ],
   "source": [
    "history1 = model.fit(X_train,y_train_ohe,batch_size=400,epochs=20,\n",
    "                     validation_data = (X_val,y_val_ohe),\n",
    "                    callbacks = [early_stop,reduce_on_plateau,model_checkpoing])"
   ]
  },
  {
   "cell_type": "code",
   "execution_count": 97,
   "metadata": {
    "id": "wi2E8r7N68_n",
    "jupyter": {
     "outputs_hidden": true
    }
   },
   "outputs": [],
   "source": [
    "## Соберите обычный 6ти слойный перспептрон с функциями активации сигмоид\n",
    "def create_simple_model():\n",
    "    model = Sequential(name = 'first_model')\n",
    "    model.add(L.InputLayer(input_shape = (28,28))) \n",
    "    model.add(L.Flatten()) \n",
    "    model.add(L.Dense(100,  kernel_initializer='random_normal',name='1',activation='sigmoid'))\n",
    "    model.add(L.Dense(100,  kernel_initializer='random_normal',name='2',activation='sigmoid'))\n",
    "    model.add(L.Dense(100,  kernel_initializer='random_normal',name='3',activation='sigmoid'))\n",
    "    model.add(L.Dense(100,  kernel_initializer='random_normal',name='4',activation='sigmoid'))\n",
    "    model.add(L.Dense(100,  kernel_initializer='random_normal',name='5',activation='sigmoid'))\n",
    "    model.add(L.Dense(100,  kernel_initializer='random_normal',name='6',activation='sigmoid'))\n",
    "    model.add(L.Dense(10, kernel_initializer = 'random_normal',name='Output',activation='softmax'))\n",
    "    opt = keras.optimizers.Adam(learning_rate=1e-2) \n",
    "    model.compile(optimizer=opt,loss='categorical_crossentropy',\n",
    "                 metrics=[\"categorical_accuracy\"]) \n",
    "    return model\n",
    "\n",
    "model = create_simple_model()"
   ]
  },
  {
   "cell_type": "code",
   "execution_count": 98,
   "metadata": {},
   "outputs": [
    {
     "name": "stdout",
     "output_type": "stream",
     "text": [
      "Epoch 1/50\n",
      "125/125 [==============================] - 2s 12ms/step - loss: 2.3066 - categorical_accuracy: 0.0985 - val_loss: 2.3035 - val_categorical_accuracy: 0.1016\n",
      "Epoch 2/50\n",
      "125/125 [==============================] - 1s 10ms/step - loss: 2.3030 - categorical_accuracy: 0.0996 - val_loss: 2.3026 - val_categorical_accuracy: 0.0997\n",
      "Epoch 3/50\n",
      "125/125 [==============================] - 1s 11ms/step - loss: 2.1235 - categorical_accuracy: 0.1722 - val_loss: 1.6456 - val_categorical_accuracy: 0.3528\n",
      "Epoch 4/50\n",
      "125/125 [==============================] - 1s 11ms/step - loss: 1.2989 - categorical_accuracy: 0.4420 - val_loss: 1.1970 - val_categorical_accuracy: 0.4449\n",
      "Epoch 5/50\n",
      "125/125 [==============================] - 1s 9ms/step - loss: 1.1098 - categorical_accuracy: 0.5077 - val_loss: 1.0346 - val_categorical_accuracy: 0.5597\n",
      "Epoch 6/50\n",
      "125/125 [==============================] - 1s 9ms/step - loss: 0.9327 - categorical_accuracy: 0.5781 - val_loss: 0.9509 - val_categorical_accuracy: 0.5593\n",
      "Epoch 7/50\n",
      "125/125 [==============================] - 1s 10ms/step - loss: 0.8966 - categorical_accuracy: 0.5843 - val_loss: 0.9096 - val_categorical_accuracy: 0.5914\n",
      "Epoch 8/50\n",
      "125/125 [==============================] - 1s 8ms/step - loss: 0.8539 - categorical_accuracy: 0.6021 - val_loss: 0.8670 - val_categorical_accuracy: 0.6108\n",
      "Epoch 9/50\n",
      "125/125 [==============================] - 1s 9ms/step - loss: 0.8393 - categorical_accuracy: 0.6184 - val_loss: 0.8950 - val_categorical_accuracy: 0.5772\n",
      "Epoch 10/50\n",
      "125/125 [==============================] - 1s 9ms/step - loss: 0.8365 - categorical_accuracy: 0.6228 - val_loss: 0.8553 - val_categorical_accuracy: 0.6230\n",
      "Epoch 11/50\n",
      "125/125 [==============================] - 1s 8ms/step - loss: 0.8183 - categorical_accuracy: 0.6424 - val_loss: 0.8275 - val_categorical_accuracy: 0.6437\n",
      "Epoch 12/50\n",
      "125/125 [==============================] - 1s 10ms/step - loss: 0.8044 - categorical_accuracy: 0.6450 - val_loss: 0.8232 - val_categorical_accuracy: 0.6394\n",
      "Epoch 13/50\n",
      "125/125 [==============================] - 1s 10ms/step - loss: 0.7861 - categorical_accuracy: 0.6566 - val_loss: 0.8326 - val_categorical_accuracy: 0.6396\n",
      "Epoch 14/50\n",
      "125/125 [==============================] - 1s 10ms/step - loss: 0.7909 - categorical_accuracy: 0.6566 - val_loss: 0.8257 - val_categorical_accuracy: 0.6328\n",
      "Epoch 15/50\n",
      "125/125 [==============================] - 1s 10ms/step - loss: 0.7800 - categorical_accuracy: 0.6637 - val_loss: 0.7904 - val_categorical_accuracy: 0.7408\n",
      "Epoch 16/50\n",
      "125/125 [==============================] - 1s 9ms/step - loss: 0.6991 - categorical_accuracy: 0.7415 - val_loss: 0.7076 - val_categorical_accuracy: 0.7387\n",
      "Epoch 17/50\n",
      "125/125 [==============================] - 1s 10ms/step - loss: 0.6523 - categorical_accuracy: 0.7521 - val_loss: 0.6795 - val_categorical_accuracy: 0.7381\n",
      "Epoch 18/50\n",
      "125/125 [==============================] - 1s 12ms/step - loss: 0.6365 - categorical_accuracy: 0.7648 - val_loss: 0.6597 - val_categorical_accuracy: 0.8019\n",
      "Epoch 19/50\n",
      "125/125 [==============================] - 1s 9ms/step - loss: 0.5703 - categorical_accuracy: 0.8305 - val_loss: 0.5427 - val_categorical_accuracy: 0.8360\n",
      "Epoch 20/50\n",
      "125/125 [==============================] - 1s 9ms/step - loss: 0.5198 - categorical_accuracy: 0.8421 - val_loss: 0.5606 - val_categorical_accuracy: 0.8249\n",
      "Epoch 21/50\n",
      "125/125 [==============================] - 2s 13ms/step - loss: 0.4973 - categorical_accuracy: 0.8475 - val_loss: 0.5149 - val_categorical_accuracy: 0.8399\n",
      "Epoch 22/50\n",
      "125/125 [==============================] - 1s 11ms/step - loss: 0.4836 - categorical_accuracy: 0.8501 - val_loss: 0.5323 - val_categorical_accuracy: 0.8359\n",
      "Epoch 23/50\n",
      "125/125 [==============================] - 1s 11ms/step - loss: 0.4611 - categorical_accuracy: 0.8563 - val_loss: 0.4932 - val_categorical_accuracy: 0.8438\n",
      "Epoch 24/50\n",
      "125/125 [==============================] - 1s 10ms/step - loss: 0.4548 - categorical_accuracy: 0.8581 - val_loss: 0.4786 - val_categorical_accuracy: 0.8494\n",
      "Epoch 25/50\n",
      "125/125 [==============================] - 1s 11ms/step - loss: 0.4349 - categorical_accuracy: 0.8627 - val_loss: 0.4712 - val_categorical_accuracy: 0.8472\n",
      "Epoch 26/50\n",
      "125/125 [==============================] - 2s 12ms/step - loss: 0.4188 - categorical_accuracy: 0.8679 - val_loss: 0.4465 - val_categorical_accuracy: 0.8554\n",
      "Epoch 27/50\n",
      "125/125 [==============================] - 2s 16ms/step - loss: 0.4092 - categorical_accuracy: 0.8686 - val_loss: 0.4614 - val_categorical_accuracy: 0.8482\n",
      "Epoch 28/50\n",
      "125/125 [==============================] - 2s 15ms/step - loss: 0.3913 - categorical_accuracy: 0.8726 - val_loss: 0.4461 - val_categorical_accuracy: 0.8547\n",
      "Epoch 29/50\n",
      "125/125 [==============================] - 2s 13ms/step - loss: 0.3868 - categorical_accuracy: 0.8735 - val_loss: 0.4321 - val_categorical_accuracy: 0.8544\n",
      "Epoch 30/50\n",
      "125/125 [==============================] - ETA: 0s - loss: 0.3733 - categorical_accuracy: 0.87 - 1s 11ms/step - loss: 0.3732 - categorical_accuracy: 0.8773 - val_loss: 0.4092 - val_categorical_accuracy: 0.8633\n",
      "Epoch 31/50\n",
      "125/125 [==============================] - 2s 12ms/step - loss: 0.3707 - categorical_accuracy: 0.8779 - val_loss: 0.4121 - val_categorical_accuracy: 0.8630\n",
      "Epoch 32/50\n",
      "125/125 [==============================] - 1s 10ms/step - loss: 0.3570 - categorical_accuracy: 0.8809 - val_loss: 0.4165 - val_categorical_accuracy: 0.8578\n",
      "Epoch 33/50\n",
      "125/125 [==============================] - 1s 9ms/step - loss: 0.3531 - categorical_accuracy: 0.8837 - val_loss: 0.3958 - val_categorical_accuracy: 0.8689\n",
      "Epoch 34/50\n",
      "125/125 [==============================] - 1s 10ms/step - loss: 0.3467 - categorical_accuracy: 0.8842 - val_loss: 0.4019 - val_categorical_accuracy: 0.8673\n",
      "Epoch 35/50\n",
      "125/125 [==============================] - 1s 10ms/step - loss: 0.3463 - categorical_accuracy: 0.8835 - val_loss: 0.4018 - val_categorical_accuracy: 0.8615\n",
      "Epoch 36/50\n",
      "125/125 [==============================] - 1s 9ms/step - loss: 0.3382 - categorical_accuracy: 0.8861 - val_loss: 0.4058 - val_categorical_accuracy: 0.8591\n",
      "Epoch 37/50\n",
      "125/125 [==============================] - 1s 10ms/step - loss: 0.3124 - categorical_accuracy: 0.8946 - val_loss: 0.3801 - val_categorical_accuracy: 0.8716\n",
      "Epoch 38/50\n",
      "125/125 [==============================] - 1s 9ms/step - loss: 0.3017 - categorical_accuracy: 0.8987 - val_loss: 0.3789 - val_categorical_accuracy: 0.8714\n",
      "Epoch 39/50\n",
      "125/125 [==============================] - 1s 9ms/step - loss: 0.2980 - categorical_accuracy: 0.9004 - val_loss: 0.3766 - val_categorical_accuracy: 0.8743\n",
      "Epoch 40/50\n",
      "125/125 [==============================] - 1s 10ms/step - loss: 0.2959 - categorical_accuracy: 0.9000 - val_loss: 0.3783 - val_categorical_accuracy: 0.8738\n",
      "Epoch 41/50\n",
      "125/125 [==============================] - 1s 10ms/step - loss: 0.2936 - categorical_accuracy: 0.9018 - val_loss: 0.3746 - val_categorical_accuracy: 0.8742\n",
      "Epoch 42/50\n",
      "125/125 [==============================] - 1s 8ms/step - loss: 0.2916 - categorical_accuracy: 0.9020 - val_loss: 0.3769 - val_categorical_accuracy: 0.8739\n",
      "Epoch 43/50\n",
      "125/125 [==============================] - 1s 8ms/step - loss: 0.2895 - categorical_accuracy: 0.9025 - val_loss: 0.3757 - val_categorical_accuracy: 0.8737\n",
      "Epoch 44/50\n",
      "125/125 [==============================] - 1s 8ms/step - loss: 0.2885 - categorical_accuracy: 0.9030 - val_loss: 0.3737 - val_categorical_accuracy: 0.8748\n",
      "Epoch 45/50\n",
      "125/125 [==============================] - 1s 8ms/step - loss: 0.2854 - categorical_accuracy: 0.9034 - val_loss: 0.3768 - val_categorical_accuracy: 0.8753\n",
      "Epoch 46/50\n",
      "125/125 [==============================] - 1s 8ms/step - loss: 0.2849 - categorical_accuracy: 0.9034 - val_loss: 0.3814 - val_categorical_accuracy: 0.8740\n",
      "Epoch 47/50\n",
      "125/125 [==============================] - 1s 8ms/step - loss: 0.2837 - categorical_accuracy: 0.9044 - val_loss: 0.3785 - val_categorical_accuracy: 0.8734\n",
      "Epoch 48/50\n",
      "125/125 [==============================] - 1s 8ms/step - loss: 0.2789 - categorical_accuracy: 0.9056 - val_loss: 0.3751 - val_categorical_accuracy: 0.8741\n",
      "Epoch 49/50\n"
     ]
    },
    {
     "name": "stdout",
     "output_type": "stream",
     "text": [
      "125/125 [==============================] - 1s 7ms/step - loss: 0.2778 - categorical_accuracy: 0.9057 - val_loss: 0.3750 - val_categorical_accuracy: 0.8741\n"
     ]
    }
   ],
   "source": [
    "history2 = model.fit(X_train,y_train_ohe,batch_size=400,epochs=50,\n",
    "                     validation_data = (X_val,y_val_ohe),\n",
    "                    callbacks = [early_stop,reduce_on_plateau,model_checkpoing])"
   ]
  },
  {
   "cell_type": "code",
   "execution_count": 99,
   "metadata": {
    "id": "qAjzhcJ9oLNL",
    "jupyter": {
     "outputs_hidden": true
    }
   },
   "outputs": [],
   "source": [
    "## Соберите обычный 6ти слойный перспептрон с батчнормом и релу\n",
    "def create_simple_model():\n",
    "    model = Sequential(name = 'first_model')\n",
    "    model.add(L.InputLayer(input_shape = (28,28))) \n",
    "    model.add(L.Flatten()) \n",
    "    model.add(L.Dense(100,  kernel_initializer='random_normal',name='1',activation='relu'))\n",
    "    model.add(L.BatchNormalization())\n",
    "    model.add(L.Dense(100,  kernel_initializer='random_normal',name='2',activation='relu'))\n",
    "    model.add(L.BatchNormalization())\n",
    "    model.add(L.Dense(100,  kernel_initializer='random_normal',name='3',activation='relu'))\n",
    "    model.add(L.BatchNormalization())\n",
    "    model.add(L.Dense(100,  kernel_initializer='random_normal',name='4',activation='relu'))\n",
    "    model.add(L.BatchNormalization())\n",
    "    model.add(L.Dense(100,  kernel_initializer='random_normal',name='5',activation='relu'))\n",
    "    model.add(L.BatchNormalization())\n",
    "    model.add(L.Dense(100,  kernel_initializer='random_normal',name='6',activation='relu'))\n",
    "    model.add(L.BatchNormalization())\n",
    "    model.add(L.Dense(10, kernel_initializer = 'random_normal',name='Output',activation='softmax'))\n",
    "    opt = keras.optimizers.Adam(learning_rate=1e-2) \n",
    "    model.compile(optimizer=opt,loss='categorical_crossentropy',\n",
    "                 metrics=[\"categorical_accuracy\"]) \n",
    "    return model\n",
    "\n",
    "model = create_simple_model()"
   ]
  },
  {
   "cell_type": "code",
   "execution_count": 100,
   "metadata": {
    "id": "nD9gv5bzoLZb",
    "jupyter": {
     "outputs_hidden": true
    }
   },
   "outputs": [
    {
     "name": "stdout",
     "output_type": "stream",
     "text": [
      "Epoch 1/20\n",
      "167/167 [==============================] - 3s 10ms/step - loss: 0.5255 - categorical_accuracy: 0.8095 - val_loss: 0.9485 - val_categorical_accuracy: 0.7486\n",
      "Epoch 2/20\n",
      "167/167 [==============================] - 1s 8ms/step - loss: 0.4007 - categorical_accuracy: 0.8550 - val_loss: 0.9163 - val_categorical_accuracy: 0.7724\n",
      "Epoch 3/20\n",
      "167/167 [==============================] - 1s 8ms/step - loss: 0.3718 - categorical_accuracy: 0.8650 - val_loss: 0.6274 - val_categorical_accuracy: 0.8286\n",
      "Epoch 4/20\n",
      "167/167 [==============================] - 1s 8ms/step - loss: 0.3477 - categorical_accuracy: 0.8720 - val_loss: 0.4421 - val_categorical_accuracy: 0.8626\n",
      "Epoch 5/20\n",
      "167/167 [==============================] - 1s 8ms/step - loss: 0.3224 - categorical_accuracy: 0.8834 - val_loss: 0.5624 - val_categorical_accuracy: 0.8277\n",
      "Epoch 6/20\n",
      "167/167 [==============================] - 1s 8ms/step - loss: 0.3120 - categorical_accuracy: 0.8843 - val_loss: 0.4094 - val_categorical_accuracy: 0.8648\n",
      "Epoch 7/20\n",
      "167/167 [==============================] - 1s 8ms/step - loss: 0.3008 - categorical_accuracy: 0.8905 - val_loss: 0.4162 - val_categorical_accuracy: 0.8575\n",
      "Epoch 8/20\n",
      "167/167 [==============================] - 1s 8ms/step - loss: 0.2874 - categorical_accuracy: 0.8953 - val_loss: 0.4068 - val_categorical_accuracy: 0.8664\n",
      "Epoch 9/20\n",
      "167/167 [==============================] - 1s 8ms/step - loss: 0.2838 - categorical_accuracy: 0.8942 - val_loss: 0.4748 - val_categorical_accuracy: 0.8537\n",
      "Epoch 10/20\n",
      "167/167 [==============================] - 1s 8ms/step - loss: 0.2664 - categorical_accuracy: 0.9017 - val_loss: 0.3915 - val_categorical_accuracy: 0.8692\n",
      "Epoch 11/20\n",
      "167/167 [==============================] - 1s 8ms/step - loss: 0.2576 - categorical_accuracy: 0.9045 - val_loss: 0.4478 - val_categorical_accuracy: 0.8435\n",
      "Epoch 12/20\n",
      "167/167 [==============================] - 1s 9ms/step - loss: 0.2586 - categorical_accuracy: 0.9032 - val_loss: 0.4060 - val_categorical_accuracy: 0.8675\n",
      "Epoch 13/20\n",
      "167/167 [==============================] - 2s 10ms/step - loss: 0.2489 - categorical_accuracy: 0.9071 - val_loss: 0.4460 - val_categorical_accuracy: 0.8537\n",
      "Epoch 14/20\n",
      "167/167 [==============================] - 2s 13ms/step - loss: 0.2087 - categorical_accuracy: 0.9220 - val_loss: 0.3045 - val_categorical_accuracy: 0.8918\n",
      "Epoch 15/20\n",
      "167/167 [==============================] - 2s 11ms/step - loss: 0.1919 - categorical_accuracy: 0.9285 - val_loss: 0.3058 - val_categorical_accuracy: 0.8937\n",
      "Epoch 16/20\n",
      "167/167 [==============================] - 1s 9ms/step - loss: 0.1872 - categorical_accuracy: 0.9310 - val_loss: 0.3046 - val_categorical_accuracy: 0.8936\n",
      "Epoch 17/20\n",
      "167/167 [==============================] - 1s 8ms/step - loss: 0.1807 - categorical_accuracy: 0.9330 - val_loss: 0.3133 - val_categorical_accuracy: 0.8922\n",
      "Epoch 18/20\n",
      "167/167 [==============================] - 1s 9ms/step - loss: 0.1764 - categorical_accuracy: 0.9339 - val_loss: 0.3075 - val_categorical_accuracy: 0.8952\n",
      "Epoch 19/20\n",
      "167/167 [==============================] - 1s 8ms/step - loss: 0.1727 - categorical_accuracy: 0.9364 - val_loss: 0.3081 - val_categorical_accuracy: 0.8953\n"
     ]
    }
   ],
   "source": [
    "history3 = model.fit(X_train,y_train_ohe,batch_size=300,epochs=20,\n",
    "                     validation_data = (X_val,y_val_ohe),\n",
    "                    callbacks = [early_stop,reduce_on_plateau,model_checkpoing])"
   ]
  },
  {
   "cell_type": "code",
   "execution_count": 101,
   "metadata": {
    "id": "HJL-YdzR68_o",
    "jupyter": {
     "outputs_hidden": true
    }
   },
   "outputs": [],
   "source": [
    "# Функция для удобной отрисовки всего\n",
    "\n",
    "def plot_history(histories, key='loss', start=0):\n",
    "    plt.figure(figsize=(16,10))\n",
    "\n",
    "    for name, history in histories:\n",
    "        val = plt.plot(history.epoch[start:], history.history['val_'+key][start:],\n",
    "                       #'--', \n",
    "                       label=name.title()+' Val')\n",
    "        #plt.plot(history.epoch[start:], history.history[key][start:], color=val[0].get_color(), \n",
    "        #     label=name.title()+' Train')\n",
    "    plt.xlabel('Epochs')\n",
    "    plt.ylabel(key.replace('_',' ').title())\n",
    "    plt.legend()\n",
    "\n",
    "    plt.xlim([start, max(history.epoch)])\n"
   ]
  },
  {
   "cell_type": "code",
   "execution_count": 102,
   "metadata": {
    "id": "wXkItr39SR4N",
    "jupyter": {
     "outputs_hidden": true
    }
   },
   "outputs": [
    {
     "data": {
      "image/png": "[encoded data removed]",
      "text/plain": [
       "<Figure size 1152x720 with 1 Axes>"
      ]
     },
     "metadata": {
      "needs_background": "light"
     },
     "output_type": "display_data"
    }
   ],
   "source": [
    "plot_history([('simple',    history1), \n",
    "              ('simple_sigmoid', history2),\n",
    "              ('simple_BN_and_relu', history3)\n",
    "             ],\n",
    "             start=0)\n"
   ]
  },
  {
   "cell_type": "code",
   "execution_count": null,
   "metadata": {
    "collapsed": true,
    "id": "6g6zHv7l68_9",
    "jupyter": {
     "outputs_hidden": true
    }
   },
   "outputs": [],
   "source": []
  },
  {
   "cell_type": "code",
   "execution_count": null,
   "metadata": {
    "collapsed": true,
    "id": "jRzjqTzT68_9",
    "jupyter": {
     "outputs_hidden": true
    }
   },
   "outputs": [],
   "source": []
  }
 ],
 "metadata": {
  "colab": {
   "collapsed_sections": [],
   "name": "Keras_tutorial.ipynb",
   "provenance": []
  },
  "kernelspec": {
   "display_name": "Python 3",
   "language": "python",
   "name": "python3"
  },
  "language_info": {
   "codemirror_mode": {
    "name": "ipython",
    "version": 3
   },
   "file_extension": ".py",
   "mimetype": "text/x-python",
   "name": "python",
   "nbconvert_exporter": "python",
   "pygments_lexer": "ipython3",
   "version": "3.8.8"
  }
 },
 "nbformat": 4,
 "nbformat_minor": 4
}
