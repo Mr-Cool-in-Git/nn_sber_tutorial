{
 "cells": [
  {
   "cell_type": "code",
   "execution_count": 5,
   "metadata": {},
   "outputs": [
    {
     "name": "stdout",
     "output_type": "stream",
     "text": [
      "1.9.0+cpu\n"
     ]
    },
    {
     "ename": "ModuleNotFoundError",
     "evalue": "No module named 'deepFM'",
     "output_type": "error",
     "traceback": [
      "\u001b[1;31m---------------------------------------------------------------------------\u001b[0m",
      "\u001b[1;31mModuleNotFoundError\u001b[0m                       Traceback (most recent call last)",
      "\u001b[1;32m<ipython-input-5-aa781224ed4c>\u001b[0m in \u001b[0;36m<module>\u001b[1;34m\u001b[0m\n\u001b[0;32m      8\u001b[0m \u001b[1;32mfrom\u001b[0m \u001b[0mpytorch_lightning\u001b[0m\u001b[1;33m.\u001b[0m\u001b[0mmetrics\u001b[0m \u001b[1;32mimport\u001b[0m \u001b[0mAccuracy\u001b[0m\u001b[1;33m\u001b[0m\u001b[1;33m\u001b[0m\u001b[0m\n\u001b[0;32m      9\u001b[0m \u001b[1;33m\u001b[0m\u001b[0m\n\u001b[1;32m---> 10\u001b[1;33m \u001b[1;32mfrom\u001b[0m \u001b[0mdeepFM\u001b[0m\u001b[1;33m.\u001b[0m\u001b[0mnetwork\u001b[0m \u001b[1;32mimport\u001b[0m \u001b[0mDeepFMNet\u001b[0m\u001b[1;33m\u001b[0m\u001b[1;33m\u001b[0m\u001b[0m\n\u001b[0m\u001b[0;32m     11\u001b[0m \u001b[1;32mfrom\u001b[0m \u001b[0mdeepFM\u001b[0m\u001b[1;33m.\u001b[0m\u001b[0mdata_loader\u001b[0m \u001b[1;32mimport\u001b[0m \u001b[0mCustomDataset\u001b[0m\u001b[1;33m\u001b[0m\u001b[1;33m\u001b[0m\u001b[0m\n",
      "\u001b[1;31mModuleNotFoundError\u001b[0m: No module named 'deepFM'"
     ]
    }
   ],
   "source": [
    "import torch\n",
    "print(torch.__version__)\n",
    "\n",
    "import torch.optim as optim\n",
    "import torch.utils.data as data_utils\n",
    "\n",
    "from torch.utils.tensorboard import SummaryWriter\n",
    "from pytorch_lightning.metrics import Accuracy\n",
    "\n",
    "from deepFM.network import DeepFMNet\n",
    "from deepFM.data_loader import CustomDataset"
   ]
  },
  {
   "cell_type": "code",
   "execution_count": 2,
   "metadata": {},
   "outputs": [
    {
     "name": "stderr",
     "output_type": "stream",
     "text": [
      "ERROR: Could not find a version that satisfies the requirement deepFM\n",
      "ERROR: No matching distribution found for deepFM\n"
     ]
    }
   ],
   "source": [
    "!pip install deepFM"
   ]
  },
  {
   "cell_type": "code",
   "execution_count": 3,
   "metadata": {},
   "outputs": [],
   "source": [
    "#!pip install pytorch_lightning"
   ]
  },
  {
   "cell_type": "code",
   "execution_count": 4,
   "metadata": {},
   "outputs": [],
   "source": [
    "EPOCHS = 500\n",
    "EMBEDDING_SIZE = 5\n",
    "BATCH_SIZE = 512\n",
    "NROF_LAYERS = 3\n",
    "NROF_NEURONS = 50\n",
    "DEEP_OUTPUT_SIZE = 50\n",
    "NROF_OUT_CLASSES = 1\n",
    "LEARNING_RATE = 3e-4\n",
    "TRAIN_PATH = '/data/train_adult.pickle'\n",
    "VALID_PATH = '/data/valid_adult.pickle'"
   ]
  },
  {
   "cell_type": "code",
   "execution_count": 3,
   "metadata": {},
   "outputs": [],
   "source": [
    "class DeepFM:\n",
    "    def __init__(self):\n",
    "        self.train_dataset = CustomDataset(TRAIN_PATH)\n",
    "        self.train_loader = data_utils.DataLoader(dataset=self.train_dataset,\n",
    "                                                  batch_size=BATCH_SIZE, shuffle=True)\n",
    "\n",
    "        self.build_model()\n",
    "\n",
    "        self.log_params()\n",
    "\n",
    "        self.train_writer = SummaryWriter('./logs/train')\n",
    "        self.valid_writer = SummaryWriter('./logs/valid')\n",
    "\n",
    "        return\n",
    "\n",
    "    def build_model(self):\n",
    "        self.network = DeepFMNet(nrof_cat=self.train_dataset.nrof_emb_categories, emb_dim=EMBEDDING_SIZE,\n",
    "                                 emb_columns=self.train_dataset.embedding_columns,\n",
    "                                 numeric_columns=self.train_dataset.numeric_columns,\n",
    "                                 nrof_layers=NROF_LAYERS, nrof_neurons=NROF_NEURONS,\n",
    "                                 output_size=DEEP_OUTPUT_SIZE,\n",
    "                                 nrof_out_classes=NROF_OUT_CLASSES)\n",
    "\n",
    "        self.loss = torch.nn.BCEWithLogitsLoss()\n",
    "        self.accuracy = Accuracy()\n",
    "        self.optimizer = optim.Adam(self.network.parameters(), lr=LEARNING_RATE)\n",
    "\n",
    "        return\n",
    "\n",
    "    def log_params(self):\n",
    "        return\n",
    "\n",
    "    def load_model(self, restore_path=''):\n",
    "        if restore_path == '':\n",
    "            self.step = 0\n",
    "        else:\n",
    "            pass\n",
    "\n",
    "        return\n",
    "\n",
    "    def run_train(self):\n",
    "        print('Run train ...')\n",
    "\n",
    "        self.load_model()\n",
    "\n",
    "        for epoch in range(EPOCHS):\n",
    "            self.network.train()\n",
    "\n",
    "            for features, label in self.train_loader:\n",
    "                # Reset gradients\n",
    "                self.optimizer.zero_grad()\n",
    "\n",
    "                output = self.network(features)\n",
    "                # Calculate error and backpropagate\n",
    "                loss = self.loss(output, label)\n",
    "\n",
    "                output = torch.sigmoid(output)\n",
    "                loss.backward()\n",
    "                \n",
    "                acc = self.accuracy(output, label).item()\n",
    "\n",
    "                # Update weights with gradients\n",
    "                self.optimizer.step()\n",
    "\n",
    "                self.train_writer.add_scalar('CrossEntropyLoss', loss, self.step)\n",
    "                self.train_writer.add_scalar('Accuracy', acc, self.step)\n",
    "\n",
    "                self.step += 1\n",
    "\n",
    "                if self.step % 50 == 0:\n",
    "                    print('EPOCH %d STEP %d : train_loss: %f train_acc: %f' %\n",
    "                          (epoch, self.step, loss.item(), acc))\n",
    "\n",
    "            # self.train_writer.add_histogram('hidden_layer', self.network.linear1.weight.data, self.step)\n",
    "\n",
    "            # Run validation\n",
    "            for features, label in self.valid_loader:\n",
    "\n",
    "                output = self.network(features)\n",
    "                # Calculate error and backpropagate\n",
    "                vloss = self.loss(output, label)\n",
    "                vacc = self.accuracy(output, label).item()\n",
    "\n",
    "                # Update weights with gradients\n",
    "                self.optimizer.step()\n",
    "\n",
    "                self.valid_writer.add_scalar('CrossEntropyLoss', vloss, self.step)\n",
    "                self.valid_writer.add_scalar('Accuracy', vacc, self.step)\n",
    "\n",
    "                if self.step % 50 == 0:\n",
    "                    print('EPOCH %d STEP %d : train_loss: %f train_acc: %f' %\n",
    "                          (epoch, self.step, vloss.item(), vacc))\n",
    "\n",
    "        return"
   ]
  },
  {
   "cell_type": "code",
   "execution_count": 4,
   "metadata": {},
   "outputs": [
    {
     "ename": "NameError",
     "evalue": "name 'CustomDataset' is not defined",
     "output_type": "error",
     "traceback": [
      "\u001b[1;31m---------------------------------------------------------------------------\u001b[0m",
      "\u001b[1;31mNameError\u001b[0m                                 Traceback (most recent call last)",
      "\u001b[1;32m<ipython-input-4-fab548fa696b>\u001b[0m in \u001b[0;36m<module>\u001b[1;34m\u001b[0m\n\u001b[1;32m----> 1\u001b[1;33m \u001b[0mdeep_fm\u001b[0m \u001b[1;33m=\u001b[0m \u001b[0mDeepFM\u001b[0m\u001b[1;33m(\u001b[0m\u001b[1;33m)\u001b[0m\u001b[1;33m\u001b[0m\u001b[1;33m\u001b[0m\u001b[0m\n\u001b[0m\u001b[0;32m      2\u001b[0m \u001b[0mdeep_fm\u001b[0m\u001b[1;33m.\u001b[0m\u001b[0mrun_train\u001b[0m\u001b[1;33m(\u001b[0m\u001b[1;33m)\u001b[0m\u001b[1;33m\u001b[0m\u001b[1;33m\u001b[0m\u001b[0m\n",
      "\u001b[1;32m<ipython-input-3-32c16a55477f>\u001b[0m in \u001b[0;36m__init__\u001b[1;34m(self)\u001b[0m\n\u001b[0;32m      1\u001b[0m \u001b[1;32mclass\u001b[0m \u001b[0mDeepFM\u001b[0m\u001b[1;33m:\u001b[0m\u001b[1;33m\u001b[0m\u001b[1;33m\u001b[0m\u001b[0m\n\u001b[0;32m      2\u001b[0m     \u001b[1;32mdef\u001b[0m \u001b[0m__init__\u001b[0m\u001b[1;33m(\u001b[0m\u001b[0mself\u001b[0m\u001b[1;33m)\u001b[0m\u001b[1;33m:\u001b[0m\u001b[1;33m\u001b[0m\u001b[1;33m\u001b[0m\u001b[0m\n\u001b[1;32m----> 3\u001b[1;33m         \u001b[0mself\u001b[0m\u001b[1;33m.\u001b[0m\u001b[0mtrain_dataset\u001b[0m \u001b[1;33m=\u001b[0m \u001b[0mCustomDataset\u001b[0m\u001b[1;33m(\u001b[0m\u001b[0mTRAIN_PATH\u001b[0m\u001b[1;33m)\u001b[0m\u001b[1;33m\u001b[0m\u001b[1;33m\u001b[0m\u001b[0m\n\u001b[0m\u001b[0;32m      4\u001b[0m         self.train_loader = data_utils.DataLoader(dataset=self.train_dataset,\n\u001b[0;32m      5\u001b[0m                                                   batch_size=BATCH_SIZE, shuffle=True)\n",
      "\u001b[1;31mNameError\u001b[0m: name 'CustomDataset' is not defined"
     ]
    }
   ],
   "source": [
    "deep_fm = DeepFM()\n",
    "deep_fm.run_train()"
   ]
  },
  {
   "cell_type": "code",
   "execution_count": null,
   "metadata": {},
   "outputs": [],
   "source": []
  }
 ],
 "metadata": {
  "kernelspec": {
   "display_name": "Python 3",
   "language": "python",
   "name": "python3"
  },
  "language_info": {
   "codemirror_mode": {
    "name": "ipython",
    "version": 3
   },
   "file_extension": ".py",
   "mimetype": "text/x-python",
   "name": "python",
   "nbconvert_exporter": "python",
   "pygments_lexer": "ipython3",
   "version": "3.8.8"
  }
 },
 "nbformat": 4,
 "nbformat_minor": 4
}
