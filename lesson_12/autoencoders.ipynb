{
 "cells": [
  {
   "cell_type": "markdown",
   "metadata": {
    "id": "fAoYi7IWVkpo"
   },
   "source": [
    "# Автокодировщики\n",
    "\n",
    "Объект описывается слишком большим количеством признаков? Хочется уменьшить их чилсло и не потерять важную информацию? Вам надоел PCA? Тогда автокодировщики идут к вам! \n",
    "\n",
    "## Почиташки \n",
    "\n",
    "* [Хорошая серия статей](https://habrahabr.ru/post/331382/) про автокодировщики и GAN\n",
    "* [Глава книги](http://www.deeplearningbook.org/contents/autoencoders.html) deep learning book, на которой основана серия статей выше. \n",
    "* [Статья из блога про Keras](https://blog.keras.io/building-autoencoders-in-keras.html), на которой также основана статья выше (все воруют код у всех, просто ужас, блин). \n",
    "* [Неделя 4 курса Introduction to deep learning](https://www.coursera.org/learn/intro-to-deep-learning/home/week/4), с которой также взята часть материалов, и на которой я был ментором (возможно, что это оправдывает меня). Можно заодно [посмотреть тетрадку с этого курса.](https://github.com/hse-aml/intro-to-dl/blob/master/week4/Autoencoders-task.ipynb) Неожиданно, но она тоже с лицами...  Неожиданно, но код похож... Или даже сворован..."
   ]
  },
  {
   "cell_type": "markdown",
   "metadata": {
    "id": "NeZEuhSXVkpv"
   },
   "source": [
    "## Про автокодировщики \n",
    "\n",
    "Эпоха больших данных даёт нам слишком много данных. Часто хочется, чтобы их было немного поменьше, но при этом они выражали бы всю информацию о великом процессе порождения данных более ёмко. Не потерять в знании, но сэкономить! Именно из такого благородного помысла рождается метод главных компонент. Его посыл очень прост: давайте посмотрим на наши данные, найдём в них те направления, в которых происходит самое сильное изменение и оставим только их. При этом, в плане информации мы бы не потеряли особо много. Именно так часто поступают в случае, когда размерность данных очень большая. Находят $d$ Направлений, разброс в которых покрывает $90\\%$ дисперсии, а остальное забывают. \n",
    "\n",
    "Например, если у нас есть выборка из карасей и щук и требуется научится отличать одних от ругих, то мы могли бы оставить только информацию о чешуйках, расположенных вдоль первой, более длинной компоненты. На качество нашего классификатора это бы повлияло слабо, но мы, при этом, избавились бы от лишней размерности, от оценки лишнего коэфициента и могли бы пустить большее число наблюдений на оценку меньшего числа параметров.  \n",
    "\n",
    "![](https://upload.wikimedia.org/wikipedia/commons/thumb/9/90/PCA_fish.png/256px-PCA_fish.png)\n",
    "\n",
    "Главная фишка метода главных компонент состоит в том, что он делает всю эту редукцию линейно. На самом деле все новые признаки будут представлять из себя линейные комбинации из старых. "
   ]
  },
  {
   "cell_type": "markdown",
   "metadata": {
    "id": "3u2OJQQ_Vkpw"
   },
   "source": [
    "Идею такой редукции лишней информации можно обобщить до нелинейного случая и сделать прыжок к нейросетям, которые называются **автоэнокдерами.**  Автоэнкодеры учатся оставлять минимум информации так, чтобы по этому минимуму было возможно восстановить с очень высокой точностью исходную информацию. \n",
    "\n",
    "Автоэнкодеры — это нейронные сети прямого распространения, которые восстанавливают входной сигнал на выходе. Внутри у них имеется скрытый слой, который представляет собой код, описывающий модель. Автоэнкодеры конструируются таким образом, чтобы не иметь возможность точно скопировать вход на выходе. Обычно их ограничивают в размерности кода. \n",
    "\n",
    "![](https://hsto.org/web/cf6/228/613/cf6228613fdc4f8fb819cbd41bb677eb.png) \n",
    "\n",
    "Закодированную часть Входной сигнал восстанавливается с ошибками из-за потерь при кодировании, но, чтобы их минимизировать, сеть вынуждена учиться отбирать наиболее важные признаки.\n",
    "\n",
    "Новый пример! Пусть у нас есть куча рукописных цифр и мы хотели бы научить компьютер понимать где какая цифра нарисована. Каждая цифра это картинка из пикселей размер $28 \\times 28$. Всего у нас $28^2$ наблюдаемые переменные. Это слишком много! Явно не каждый пиксель несёт в себе информацию о том какая цифра нарисована на картинке. Большая часть пикселей бесполезна. \n",
    "\n",
    "Чтобы отобрать самые важные нелинейные комбинации из пикселей, мы можем сделать следующее: \n",
    "\n",
    "![](https://blog.keras.io/img/ae/autoencoder_schema.jpg)\n",
    "\n",
    "Нейросеть получает на вход цифру, пытается оставить 10 самых важных нейлинейных комбинаций из пикселей, а после по этим самым важным комбинациям, она пытается восстановить цифру назад с как можно большей точностью. Ограничение на то сколько самых важных нелинейных пикселей должно остаться, заставляет нашу сетку стараться отобрать исключительно всё самое важное, что можно найти на картинке. Метод главных компонент будет частным, самым простым случаем, такой нейронной сетки. \n",
    "\n",
    "Первая часть автокодировщика $g(x)$ называется **encoder**. Она пытается закодировать картинку. Вторая часть $f(h)$ называет **decoder**. Она пытается раскодировать картинку. Автоэккодер, изменяя $f$ и $g$ пытается выучить тождественную функцию \n",
    "\n",
    "$$x = f(g(x)),$$ \n",
    "\n",
    "минимизируя какой-то функционал ошибки \n",
    "\n",
    "$$L(x, f(g(x))).$$ \n",
    "\n",
    "При этом выучить тождественную выборку он не может, так как в сердцевине находится  **бутылочное горлышко** с довольно маленьким числом нейронов. В итоге сетка вынуждена отаравлять в сердцевину только те комбинации фичей, по которым легче всего восстановить входные данные, и таким образом отсеивает ненужную информацию. В горлышке в результате обучения оказываются наши новые нелинейные фичи. "
   ]
  },
  {
   "cell_type": "code",
   "execution_count": 26,
   "metadata": {
    "colab": {
     "base_uri": "https://localhost:8080/",
     "height": 35
    },
    "id": "92ORHXL6Vkpz",
    "outputId": "13b7649c-b6a9-4cdd-a141-70574ba92fb1"
   },
   "outputs": [
    {
     "data": {
      "text/plain": [
       "'2.5.0'"
      ]
     },
     "execution_count": 26,
     "metadata": {},
     "output_type": "execute_result"
    },
    {
     "name": "stdout",
     "output_type": "stream",
     "text": [
      "ERROR! Session/line number was not unique in database. History logging moved to new session 110\n"
     ]
    }
   ],
   "source": [
    "import tensorflow as tf\n",
    "tf.__version__"
   ]
  },
  {
   "cell_type": "code",
   "execution_count": 27,
   "metadata": {
    "id": "2EN8IE8tVkp3"
   },
   "outputs": [],
   "source": [
    "from tensorflow.keras.models import Sequential, Model\n",
    "from tensorflow.keras import layers as L"
   ]
  },
  {
   "cell_type": "code",
   "execution_count": 28,
   "metadata": {
    "id": "BPOvcWfFVkp4"
   },
   "outputs": [],
   "source": [
    "import numpy as np\n",
    "import seaborn as sns\n",
    "import matplotlib.pyplot as plt\n",
    "\n",
    "%matplotlib inline"
   ]
  },
  {
   "cell_type": "markdown",
   "metadata": {
    "id": "Jlx93hqdVkp4"
   },
   "source": [
    "## 1. Данные.\n",
    "\n",
    "Будем учить свой автокодировщик на датасете mnist"
   ]
  },
  {
   "cell_type": "code",
   "execution_count": 4,
   "metadata": {
    "id": "9wlYZpwfVkp5"
   },
   "outputs": [],
   "source": [
    "from tensorflow.keras.datasets import mnist\n",
    "\n",
    "(X_train, y_train), (X_test, y_test) = mnist.load_data()"
   ]
  },
  {
   "cell_type": "code",
   "execution_count": 5,
   "metadata": {
    "colab": {
     "base_uri": "https://localhost:8080/"
    },
    "id": "wojc7EgSVkp6",
    "outputId": "5d10eb42-486f-4b1a-9286-5e5dd233aa31"
   },
   "outputs": [
    {
     "data": {
      "text/plain": [
       "(28, 28)"
      ]
     },
     "execution_count": 5,
     "metadata": {},
     "output_type": "execute_result"
    }
   ],
   "source": [
    "X_train[0].shape"
   ]
  },
  {
   "cell_type": "code",
   "execution_count": 6,
   "metadata": {
    "id": "qPPiVCi8Vkp6"
   },
   "outputs": [],
   "source": [
    "X_train = X_train.astype('float32') / 255.\n",
    "X_test  = X_test.astype('float32') / 255.\n",
    "\n",
    "X_train = X_train[...,None]\n",
    "X_test = X_test[...,None]"
   ]
  },
  {
   "cell_type": "code",
   "execution_count": 7,
   "metadata": {
    "colab": {
     "base_uri": "https://localhost:8080/"
    },
    "id": "3qaGcG7qVkp7",
    "outputId": "94e69354-afbd-459e-b0a0-15093e18d926",
    "scrolled": true
   },
   "outputs": [
    {
     "data": {
      "text/plain": [
       "(60000, 28, 28, 1)"
      ]
     },
     "execution_count": 7,
     "metadata": {},
     "output_type": "execute_result"
    }
   ],
   "source": [
    "X_train.shape"
   ]
  },
  {
   "cell_type": "code",
   "execution_count": 8,
   "metadata": {
    "colab": {
     "base_uri": "https://localhost:8080/",
     "height": 282
    },
    "id": "XANkUi1BVkp8",
    "outputId": "06a11618-f3a0-4384-e781-4a4ade1a56d7"
   },
   "outputs": [
    {
     "data": {
      "text/plain": [
       "(28, 28, 1)"
      ]
     },
     "execution_count": 8,
     "metadata": {},
     "output_type": "execute_result"
    },
    {
     "data": {
      "image/png": "[encoded data removed]",
      "text/plain": [
       "<Figure size 432x288 with 1 Axes>"
      ]
     },
     "metadata": {
      "needs_background": "light"
     },
     "output_type": "display_data"
    }
   ],
   "source": [
    "plt.imshow(X_train[0,:,:,0], cmap='gray')\n",
    "X_train[0].shape"
   ]
  },
  {
   "cell_type": "markdown",
   "metadata": {
    "id": "MV8x5NPIVkp9"
   },
   "source": [
    "Хочу ещё данных!"
   ]
  },
  {
   "cell_type": "code",
   "execution_count": 9,
   "metadata": {
    "colab": {
     "base_uri": "https://localhost:8080/",
     "height": 239
    },
    "id": "4e23OXLnVkp-",
    "outputId": "6263870d-649b-4e0a-83ee-3d0486d4e143"
   },
   "outputs": [
    {
     "data": {
      "image/png": "[encoded data removed]",
      "text/plain": [
       "<Figure size 1080x288 with 16 Axes>"
      ]
     },
     "metadata": {
      "needs_background": "light"
     },
     "output_type": "display_data"
    }
   ],
   "source": [
    "cols = 8\n",
    "rows = 2\n",
    "fig = plt.figure(figsize=(2 * cols - 1, 2.5 * rows - 1))\n",
    "for i in range(cols):\n",
    "    for j in range(rows):\n",
    "        random_index = np.random.randint(0, len(X_train))\n",
    "        ax = fig.add_subplot(rows, cols, i * rows + j + 1)\n",
    "        ax.grid(False)\n",
    "        ax.axis('off')\n",
    "        ax.imshow(X_train[random_index,:,:,0], cmap='gray')\n",
    "plt.show()"
   ]
  },
  {
   "cell_type": "markdown",
   "metadata": {
    "id": "hNzWNE1BVkp_"
   },
   "source": [
    "С этим можно уже учить модели. "
   ]
  },
  {
   "cell_type": "markdown",
   "metadata": {
    "id": "NgZjGZihVkp_"
   },
   "source": [
    "## 2. Собираем автокодировщик для PCA \n",
    "\n",
    "Как мы уже выяснили, простейшим автокодировщиком является PCA. Один слой на входе, бутылочное горлышко с новыми фичами, один слой на выходе и PCA готов. "
   ]
  },
  {
   "cell_type": "code",
   "execution_count": 10,
   "metadata": {
    "colab": {
     "base_uri": "https://localhost:8080/"
    },
    "id": "-LKrDlbPVkp_",
    "outputId": "042a630f-6e0f-4cef-acdf-6874aec9569a"
   },
   "outputs": [
    {
     "data": {
      "text/plain": [
       "(28, 28, 1)"
      ]
     },
     "execution_count": 10,
     "metadata": {},
     "output_type": "execute_result"
    }
   ],
   "source": [
    "input_shape = X_train.shape[1:]\n",
    "input_shape"
   ]
  },
  {
   "cell_type": "code",
   "execution_count": 11,
   "metadata": {
    "colab": {
     "base_uri": "https://localhost:8080/"
    },
    "id": "hXkCUh2bVkqA",
    "outputId": "11299cf2-e00a-409e-8fc1-0651f023fbcf"
   },
   "outputs": [
    {
     "data": {
      "text/plain": [
       "784"
      ]
     },
     "execution_count": 11,
     "metadata": {},
     "output_type": "execute_result"
    }
   ],
   "source": [
    "np.prod(input_shape) # пикселей"
   ]
  },
  {
   "cell_type": "code",
   "execution_count": 12,
   "metadata": {
    "id": "XdmEsB-cVkqA"
   },
   "outputs": [],
   "source": [
    "def build_pca_autoencoder(img_shape, code_size=36):\n",
    "    # code_size это размерность кодированного представления (фичей на выходе)\n",
    "    \n",
    "    # Энкодер \n",
    "    encoder = Sequential()\n",
    "    encoder.add(L.InputLayer(img_shape)) # Входной слой размерность будет 28 28 1 \n",
    "    encoder.add(L.Flatten())             # Вспомогательный слой решейпинга \n",
    "    encoder.add(L.Dense(code_size))      # Обратите внимание, что нет активации \n",
    "    \n",
    "    # Декодер \n",
    "    decoder = Sequential()\n",
    "    decoder.add(L.InputLayer((code_size,))) # Принимаем закодированное представление на вход\n",
    "    decoder.add(L.Dense(np.prod(img_shape)))\n",
    "    decoder.add(L.Reshape(img_shape))\n",
    "    return encoder,decoder"
   ]
  },
  {
   "cell_type": "markdown",
   "metadata": {
    "id": "HN4SFErzVkqB"
   },
   "source": [
    "Осталось только собрать модель из моделей. "
   ]
  },
  {
   "cell_type": "code",
   "execution_count": 13,
   "metadata": {
    "colab": {
     "base_uri": "https://localhost:8080/"
    },
    "id": "aplQH7DnVkqB",
    "outputId": "db435d4d-f376-464e-9a9c-3ccdd949cb21"
   },
   "outputs": [
    {
     "name": "stdout",
     "output_type": "stream",
     "text": [
      "Model: \"model\"\n",
      "_________________________________________________________________\n",
      "Layer (type)                 Output Shape              Param #   \n",
      "=================================================================\n",
      "input_3 (InputLayer)         [(None, 28, 28, 1)]       0         \n",
      "_________________________________________________________________\n",
      "sequential (Sequential)      (None, 36)                28260     \n",
      "_________________________________________________________________\n",
      "sequential_1 (Sequential)    (None, 28, 28, 1)         29008     \n",
      "=================================================================\n",
      "Total params: 57,268\n",
      "Trainable params: 57,268\n",
      "Non-trainable params: 0\n",
      "_________________________________________________________________\n"
     ]
    }
   ],
   "source": [
    "# Сконструировали энкодер и декодер \n",
    "encoder, decoder = build_pca_autoencoder(input_shape, code_size=36)\n",
    "\n",
    "inp = L.Input(input_shape)  # Вход\n",
    "code = encoder(inp)         # Энкодер от входа \n",
    "reconstruction = decoder(code)  # Декодер от кода \n",
    "\n",
    "# Скрепили две наши сетки в одну общую модель\n",
    "autoencoder = Model(inp, reconstruction)\n",
    "\n",
    "# Собираем сеть с методом оптимизации и выбранной ошибкой \n",
    "autoencoder.compile('adam', 'mse') \n",
    "\n",
    "# Посмотрим на параметры\n",
    "autoencoder.summary()"
   ]
  },
  {
   "cell_type": "markdown",
   "metadata": {
    "id": "XVXWbSZMVkqC"
   },
   "source": [
    "Обратите внимание что энкодер восстанавливает вход на выходе. У нас нет меток для обучения, а надо, чтобы ими были сами по себе исходные картинки. Немного подправим генератор данных, чтобы это правда было так. "
   ]
  },
  {
   "cell_type": "code",
   "execution_count": 14,
   "metadata": {
    "colab": {
     "base_uri": "https://localhost:8080/"
    },
    "id": "pPVBjFjOVkqC",
    "outputId": "5af119ad-ab27-4597-84ae-240455a221c4",
    "scrolled": false
   },
   "outputs": [
    {
     "name": "stdout",
     "output_type": "stream",
     "text": [
      "Epoch 1/40\n",
      "235/235 [==============================] - ETA: 0s - loss: 0.043 - 4s 8ms/step - loss: 0.0435\n",
      "Epoch 2/40\n",
      "235/235 [==============================] - 2s 8ms/step - loss: 0.0202\n",
      "Epoch 3/40\n",
      "235/235 [==============================] - 2s 9ms/step - loss: 0.0167\n",
      "Epoch 4/40\n",
      "235/235 [==============================] - 2s 9ms/step - loss: 0.0161\n",
      "Epoch 5/40\n",
      "235/235 [==============================] - 2s 7ms/step - loss: 0.0159\n",
      "Epoch 6/40\n",
      "235/235 [==============================] - 1s 5ms/step - loss: 0.0158\n",
      "Epoch 7/40\n",
      "235/235 [==============================] - 1s 6ms/step - loss: 0.0158\n",
      "Epoch 8/40\n",
      "235/235 [==============================] - 1s 5ms/step - loss: 0.0158\n",
      "Epoch 9/40\n",
      "235/235 [==============================] - 1s 5ms/step - loss: 0.0158\n",
      "Epoch 10/40\n",
      "235/235 [==============================] - 1s 5ms/step - loss: 0.0158\n",
      "Epoch 11/40\n",
      "235/235 [==============================] - 2s 8ms/step - loss: 0.0158\n",
      "Epoch 12/40\n",
      "235/235 [==============================] - 2s 8ms/step - loss: 0.0158\n",
      "Epoch 13/40\n",
      "235/235 [==============================] - 2s 9ms/step - loss: 0.0158\n",
      "Epoch 14/40\n",
      "235/235 [==============================] - 2s 9ms/step - loss: 0.0158\n",
      "Epoch 15/40\n",
      "235/235 [==============================] - 2s 8ms/step - loss: 0.0158\n",
      "Epoch 16/40\n",
      "235/235 [==============================] - 2s 9ms/step - loss: 0.0158A: \n",
      "Epoch 17/40\n",
      "235/235 [==============================] - 2s 9ms/step - loss: 0.0158\n",
      "Epoch 18/40\n",
      "235/235 [==============================] - 2s 9ms/step - loss: 0.0158\n",
      "Epoch 19/40\n",
      "235/235 [==============================] - 2s 9ms/step - loss: 0.0158\n",
      "Epoch 20/40\n",
      "235/235 [==============================] - 2s 7ms/step - loss: 0.0158\n",
      "Epoch 21/40\n",
      "235/235 [==============================] - 1s 6ms/step - loss: 0.0158\n",
      "Epoch 22/40\n",
      "235/235 [==============================] - 2s 8ms/step - loss: 0.0158\n",
      "Epoch 23/40\n",
      "235/235 [==============================] - 2s 8ms/step - loss: 0.0158A: 0s - loss\n",
      "Epoch 24/40\n",
      "235/235 [==============================] - 2s 8ms/step - loss: 0.0158 ETA: 0s - loss: 0\n",
      "Epoch 25/40\n",
      "235/235 [==============================] - 2s 8ms/step - loss: 0.0158\n",
      "Epoch 26/40\n",
      "235/235 [==============================] - 2s 9ms/step - loss: 0.0158\n",
      "Epoch 27/40\n",
      "235/235 [==============================] - 2s 8ms/step - loss: 0.0158\n",
      "Epoch 28/40\n",
      "235/235 [==============================] - 2s 9ms/step - loss: 0.0158A: 0s - loss: 0.01\n",
      "Epoch 29/40\n",
      "235/235 [==============================] - 2s 9ms/step - loss: 0.0158\n",
      "Epoch 30/40\n",
      "235/235 [==============================] - 2s 9ms/step - loss: 0.0158\n",
      "Epoch 31/40\n",
      "235/235 [==============================] - 2s 9ms/step - loss: 0.0158\n",
      "Epoch 32/40\n",
      "235/235 [==============================] - 1s 5ms/step - loss: 0.0158\n",
      "Epoch 33/40\n",
      "235/235 [==============================] - 1s 5ms/step - loss: 0.0158\n",
      "Epoch 34/40\n",
      "235/235 [==============================] - 1s 5ms/step - loss: 0.0158\n",
      "Epoch 35/40\n",
      "235/235 [==============================] - 1s 5ms/step - loss: 0.0158\n",
      "Epoch 36/40\n",
      "235/235 [==============================] - 1s 5ms/step - loss: 0.0158\n",
      "Epoch 37/40\n",
      "235/235 [==============================] - 1s 5ms/step - loss: 0.0158\n",
      "Epoch 38/40\n",
      "235/235 [==============================] - 1s 5ms/step - loss: 0.0158\n",
      "Epoch 39/40\n",
      "235/235 [==============================] - 1s 5ms/step - loss: 0.0158\n",
      "Epoch 40/40\n",
      "235/235 [==============================] - 1s 5ms/step - loss: 0.0158\n"
     ]
    }
   ],
   "source": [
    "# Обучаем модель \n",
    "hist_1 = autoencoder.fit(x = X_train, y = X_train,  # Обратите внимание что энкодер восстанавливает вход на выходе \n",
    "                epochs = 40,                        # Никакие y тут не нужны. Это просто лэйблы... \n",
    "                batch_size = 256,\n",
    "                shuffle = True)"
   ]
  },
  {
   "cell_type": "markdown",
   "metadata": {
    "id": "LYmYFa_mVkqC"
   },
   "source": [
    "Наш автокодировщик обучился. это довольно приятная новость. Попробуем отрисовать оригинальные изображения, их компактные представления и то как по этим представлениям изображения восстанавливаются. "
   ]
  },
  {
   "cell_type": "code",
   "execution_count": 18,
   "metadata": {
    "id": "WJvhmcgCVkqD"
   },
   "outputs": [],
   "source": [
    "# Функция для отрисовки ооигинальных цифр, их представления и восстановленного рисунка\n",
    "def visualize(img, encoder, decoder):\n",
    "    code = encoder.predict(img[None])[0]\n",
    "    reco = decoder.predict(code[None])[0]\n",
    "\n",
    "    plt.subplot(1,3,1)\n",
    "    plt.title(\"Original\")\n",
    "    plt.imshow(img[:,:,0], cmap='gray')\n",
    "\n",
    "    plt.subplot(1,3,2)\n",
    "    plt.title(\"Code\")\n",
    "    plt.imshow(code.reshape([code.shape[-1]//2,-1]), cmap='gray')\n",
    "\n",
    "    plt.subplot(1,3,3)\n",
    "    plt.title(\"Reconstructed\")\n",
    "    plt.imshow(reco.clip(0,1)[:,:,0], cmap='gray')\n",
    "    plt.show()"
   ]
  },
  {
   "cell_type": "code",
   "execution_count": 19,
   "metadata": {
    "colab": {
     "base_uri": "https://localhost:8080/",
     "height": 842
    },
    "id": "GLzQuifzVkqD",
    "outputId": "976f1a07-f902-4720-e96a-79ef9562ee09"
   },
   "outputs": [
    {
     "name": "stdout",
     "output_type": "stream",
     "text": [
      "313/313 [==============================] - 1s 4ms/step - loss: 0.0154\n",
      "Final MSE: 0.01535325963050127\n"
     ]
    },
    {
     "data": {
      "image/png": "[encoded data removed]",
      "text/plain": [
       "<Figure size 432x288 with 3 Axes>"
      ]
     },
     "metadata": {
      "needs_background": "light"
     },
     "output_type": "display_data"
    },
    {
     "data": {
      "image/png": "[encoded data removed]",
      "text/plain": [
       "<Figure size 432x288 with 3 Axes>"
      ]
     },
     "metadata": {
      "needs_background": "light"
     },
     "output_type": "display_data"
    },
    {
     "data": {
      "image/png": "[encoded data removed]",
      "text/plain": [
       "<Figure size 432x288 with 3 Axes>"
      ]
     },
     "metadata": {
      "needs_background": "light"
     },
     "output_type": "display_data"
    }
   ],
   "source": [
    "score = autoencoder.evaluate(X_test, X_test,verbose=1)\n",
    "print(\"Final MSE:\",score)\n",
    "\n",
    "for i in range(3):\n",
    "    img = X_test[i]\n",
    "    visualize(img,encoder,decoder)"
   ]
  },
  {
   "cell_type": "markdown",
   "metadata": {
    "id": "1MvjOwBSVkqE"
   },
   "source": [
    "Теперь по оставшимся 36 фичам (вместо оригинальных 784) можно строить классификаторы."
   ]
  },
  {
   "cell_type": "markdown",
   "metadata": {
    "id": "gPpVvYw4VkqE"
   },
   "source": [
    "## 3 Глубокий автоэнкодер \n",
    "\n",
    "Всегда можно лучше! Сконструируем глубокий автокодировщик для вычленения нелинейных фичей. \n",
    "\n",
    "![ ](https://pbs.twimg.com/media/CYggEo-VAAACg_n.png:small)\n",
    "\n",
    "* Также обратите внимание, что вполне уместно использовать свёртки и пулинг, но такой автокодировщик будет построен чуточку ниже. "
   ]
  },
  {
   "cell_type": "code",
   "execution_count": 20,
   "metadata": {
    "colab": {
     "base_uri": "https://localhost:8080/"
    },
    "id": "x9ivWO2hVkqE",
    "outputId": "9d6969e3-0a27-4b25-a5d6-1b3681881eb1"
   },
   "outputs": [
    {
     "name": "stdout",
     "output_type": "stream",
     "text": [
      "Model: \"model_1\"\n",
      "_________________________________________________________________\n",
      "Layer (type)                 Output Shape              Param #   \n",
      "=================================================================\n",
      "input_6 (InputLayer)         [(None, 28, 28, 1)]       0         \n",
      "_________________________________________________________________\n",
      "sequential_2 (Sequential)    (None, 36)                59148     \n",
      "_________________________________________________________________\n",
      "sequential_3 (Sequential)    (None, 28, 28, 1)         59896     \n",
      "=================================================================\n",
      "Total params: 119,044\n",
      "Trainable params: 119,044\n",
      "Non-trainable params: 0\n",
      "_________________________________________________________________\n"
     ]
    }
   ],
   "source": [
    "def build_deep_autoencoder(input_shape, code_size=36):\n",
    "    # code_size это размерность кодированного представления \n",
    "\n",
    "    # Энкодер \n",
    "    encoder = Sequential()\n",
    "    encoder.add(L.InputLayer(input_shape)) # Входной слой размерность будет 28 28 1 \n",
    "    encoder.add(L.Flatten()) # Вспомогательный слой решейпинга \n",
    "\n",
    "    # Слои глубокого энкодера \n",
    "    encoder.add(L.Dense(code_size*2, activation='relu'))\n",
    "    encoder.add(L.Dense(code_size, activation='linear')) # Бутылочное горлышко\n",
    "\n",
    "    # Декодер \n",
    "    decoder = Sequential()\n",
    "    decoder.add(L.InputLayer((code_size,))) # Принимаем закодированное представление на вход\n",
    "\n",
    "    # Слои глубокого декодирования\n",
    "    decoder.add(L.Dense(code_size*2, activation='relu'))  # Обратите внимание, что слои идут в обратном порядке\n",
    "    decoder.add(L.Dense(np.prod(input_shape))) # Развёртываем картинку \n",
    "    decoder.add(L.Reshape(input_shape))\n",
    "    return encoder,decoder\n",
    "\n",
    "# Сконструировали энкодер и декодер \n",
    "encoder,decoder = build_deep_autoencoder(input_shape, code_size=36)\n",
    "\n",
    "inp = L.Input(input_shape)        # Вход\n",
    "code = encoder(inp)             # Энкодер от входа \n",
    "reconstruction = decoder(code)  # Декодер от кода \n",
    "\n",
    "# Автоэнокодер от входа и выхода \n",
    "autoencoder = Model(inp,reconstruction)\n",
    "autoencoder.compile('adam',loss='mse') # Собираем сеть с методом оптимизации и выбранной ошибкой \n",
    "\n",
    "# Посмотрим на параметры \n",
    "autoencoder.summary()"
   ]
  },
  {
   "cell_type": "code",
   "execution_count": 21,
   "metadata": {
    "colab": {
     "base_uri": "https://localhost:8080/"
    },
    "id": "72pnkqazVkqF",
    "outputId": "7b28cd14-2f38-4b9f-bddb-d9bbb61b8311"
   },
   "outputs": [
    {
     "name": "stdout",
     "output_type": "stream",
     "text": [
      "Epoch 1/40\n",
      "235/235 [==============================] - 4s 10ms/step - loss: 0.0451\n",
      "Epoch 2/40\n",
      "235/235 [==============================] - 3s 11ms/step - loss: 0.0229\n",
      "Epoch 3/40\n",
      "235/235 [==============================] - 3s 11ms/step - loss: 0.0195\n",
      "Epoch 4/40\n",
      "235/235 [==============================] - 3s 12ms/step - loss: 0.0181\n",
      "Epoch 5/40\n",
      "235/235 [==============================] - 2s 8ms/step - loss: 0.0173\n",
      "Epoch 6/40\n",
      "235/235 [==============================] - 2s 6ms/step - loss: 0.0167\n",
      "Epoch 7/40\n",
      "235/235 [==============================] - 2s 6ms/step - loss: 0.0164\n",
      "Epoch 8/40\n",
      "235/235 [==============================] - 2s 7ms/step - loss: 0.0162\n",
      "Epoch 9/40\n",
      "235/235 [==============================] - 2s 10ms/step - loss: 0.0161\n",
      "Epoch 10/40\n",
      "235/235 [==============================] - 3s 11ms/step - loss: 0.0161\n",
      "Epoch 11/40\n",
      "235/235 [==============================] - 2s 10ms/step - loss: 0.0160\n",
      "Epoch 12/40\n",
      "235/235 [==============================] - 2s 10ms/step - loss: 0.0159\n",
      "Epoch 13/40\n",
      "235/235 [==============================] - 3s 11ms/step - loss: 0.0157\n",
      "Epoch 14/40\n",
      "235/235 [==============================] - 3s 11ms/step - loss: 0.0156\n",
      "Epoch 15/40\n",
      "235/235 [==============================] - 3s 11ms/step - loss: 0.0155: 0s \n",
      "Epoch 16/40\n",
      "235/235 [==============================] - 3s 11ms/step - loss: 0.0153:\n",
      "Epoch 17/40\n",
      "235/235 [==============================] - 2s 9ms/step - loss: 0.0152\n",
      "Epoch 18/40\n",
      "235/235 [==============================] - 2s 10ms/step - loss: 0.0152\n",
      "Epoch 19/40\n",
      "235/235 [==============================] - 3s 11ms/step - loss: 0.0151\n",
      "Epoch 20/40\n",
      "235/235 [==============================] - 2s 10ms/step - loss: 0.0150\n",
      "Epoch 21/40\n",
      "235/235 [==============================] - 3s 11ms/step - loss: 0.0149\n",
      "Epoch 22/40\n",
      "235/235 [==============================] - 3s 12ms/step - loss: 0.0149\n",
      "Epoch 23/40\n",
      "235/235 [==============================] - 3s 11ms/step - loss: 0.0149\n",
      "Epoch 24/40\n",
      "235/235 [==============================] - 3s 11ms/step - loss: 0.0148\n",
      "Epoch 25/40\n",
      "235/235 [==============================] - 3s 11ms/step - loss: 0.0147\n",
      "Epoch 26/40\n",
      "235/235 [==============================] - 2s 9ms/step - loss: 0.0146\n",
      "Epoch 27/40\n",
      "235/235 [==============================] - 2s 11ms/step - loss: 0.0146: 0s - loss: \n",
      "Epoch 28/40\n",
      "235/235 [==============================] - 3s 11ms/step - loss: 0.0146\n",
      "Epoch 29/40\n",
      "235/235 [==============================] - 2s 10ms/step - loss: 0.0145\n",
      "Epoch 30/40\n",
      "235/235 [==============================] - 3s 11ms/step - loss: 0.0145\n",
      "Epoch 31/40\n",
      "235/235 [==============================] - 3s 11ms/step - loss: 0.0145\n",
      "Epoch 32/40\n",
      "235/235 [==============================] - 3s 12ms/step - loss: 0.0144\n",
      "Epoch 33/40\n",
      "235/235 [==============================] - 3s 12ms/step - loss: 0.0144:\n",
      "Epoch 34/40\n",
      "235/235 [==============================] - 3s 11ms/step - loss: 0.0143\n",
      "Epoch 35/40\n",
      "235/235 [==============================] - 2s 10ms/step - loss: 0.0143\n",
      "Epoch 36/40\n",
      "235/235 [==============================] - 2s 11ms/step - loss: 0.0142\n",
      "Epoch 37/40\n",
      "235/235 [==============================] - 3s 11ms/step - loss: 0.0142\n",
      "Epoch 38/40\n",
      "235/235 [==============================] - 2s 10ms/step - loss: 0.0141\n",
      "Epoch 39/40\n",
      "235/235 [==============================] - 2s 10ms/step - loss: 0.0141\n",
      "Epoch 40/40\n",
      "235/235 [==============================] - 3s 11ms/step - loss: 0.0141\n"
     ]
    }
   ],
   "source": [
    "# Обучаем модель \n",
    "hist_2 = autoencoder.fit(x = X_train, y = X_train,  # Обратите внимание что энкодер восстанавливает вход на выходе \n",
    "                epochs = 40,              # Никакие y тут не нужны. Это просто лэйблы... \n",
    "                batch_size = 256,\n",
    "                shuffle = True)"
   ]
  },
  {
   "cell_type": "code",
   "execution_count": 22,
   "metadata": {
    "colab": {
     "base_uri": "https://localhost:8080/",
     "height": 842
    },
    "id": "nZkDTYSLVkqF",
    "outputId": "2fcc05f2-8da5-4cc1-ab39-687ee165d075"
   },
   "outputs": [
    {
     "name": "stdout",
     "output_type": "stream",
     "text": [
      "313/313 [==============================] - 2s 4ms/step - loss: 0.0137\n",
      "Final MSE: 0.013658996671438217\n"
     ]
    },
    {
     "data": {
      "image/png": "[encoded data removed]",
      "text/plain": [
       "<Figure size 432x288 with 3 Axes>"
      ]
     },
     "metadata": {
      "needs_background": "light"
     },
     "output_type": "display_data"
    },
    {
     "data": {
      "image/png": "[encoded data removed]",
      "text/plain": [
       "<Figure size 432x288 with 3 Axes>"
      ]
     },
     "metadata": {
      "needs_background": "light"
     },
     "output_type": "display_data"
    },
    {
     "data": {
      "image/png": "[encoded data removed]",
      "text/plain": [
       "<Figure size 432x288 with 3 Axes>"
      ]
     },
     "metadata": {
      "needs_background": "light"
     },
     "output_type": "display_data"
    }
   ],
   "source": [
    "score = autoencoder.evaluate(X_test, X_test,verbose=1)\n",
    "print(\"Final MSE:\",score)\n",
    "\n",
    "for i in range(3):\n",
    "    img = X_test[i]\n",
    "    visualize(img,encoder,decoder)"
   ]
  },
  {
   "cell_type": "markdown",
   "metadata": {
    "id": "e-UrD0SSVkqG"
   },
   "source": [
    "## 4. Свёрточный автокодировщик \n",
    "\n",
    "Добавим свёрточные слои и немного макспулинга. Это позволит сделать автокдировщик инвариантным к расположению цифр в пространстве. "
   ]
  },
  {
   "cell_type": "code",
   "execution_count": 23,
   "metadata": {
    "id": "LeQCTEmSVkqG"
   },
   "outputs": [],
   "source": [
    "def build_conv_autoencoder(input_shape, code_size=36):\n",
    "    # Энкодер \n",
    "    encoder = Sequential()\n",
    "    encoder.add(L.InputLayer(input_shape))\n",
    "\n",
    "    encoder.add(L.Conv2D(filters=32,kernel_size=(3,3),padding='same',activation='relu'))\n",
    "    encoder.add(L.MaxPooling2D(pool_size=(2,2)))\n",
    "    encoder.add(L.Conv2D(filters=64,kernel_size=(3,3),padding='same',activation='relu'))\n",
    "    encoder.add(L.MaxPooling2D(pool_size=(2,2)))\n",
    "    encoder.add(L.Conv2D(filters=128,kernel_size=(3,3),padding='same',activation='relu'))\n",
    "    encoder.add(L.MaxPooling2D(pool_size=(2,2)))\n",
    "    encoder.add(L.Conv2D(filters=256,kernel_size=(3,3),padding='same',activation='relu'))\n",
    "    encoder.add(L.MaxPooling2D(pool_size=(2,2)))\n",
    "    encoder.add(L.Flatten())                  \n",
    "    encoder.add(L.Dense(code_size))  # На этом моменте представление  (6, 6, 1) т.е. 36-размерное\n",
    "\n",
    "    # Декодер \n",
    "    decoder = Sequential()\n",
    "    decoder.add(L.InputLayer((code_size,))) # Принимаем закодированное представление на вход (РАЗМЕРНОСТЬ!)\n",
    "    decoder.add(L.Dense(7*7*256))\n",
    "    decoder.add(L.Reshape((7,7,256)))\n",
    "    decoder.add(L.Conv2D(filters=256, kernel_size=(3, 3),  activation='relu',padding='same'))\n",
    "    decoder.add(L.UpSampling2D((2,2)))\n",
    "    decoder.add(L.Conv2D(filters=128, kernel_size=(3, 3),  activation='relu',padding='same'))\n",
    "    decoder.add(L.UpSampling2D((2,2)))\n",
    "    decoder.add(L.Conv2D(filters=64, kernel_size=(3, 3), activation='relu',padding='same'))\n",
    "    decoder.add(L.Conv2D(filters=32, kernel_size=(3, 3), activation='relu',padding='same'))\n",
    "    decoder.add(L.Conv2D(filters=1, kernel_size=(3, 3), activation='sigmoid', padding='same'))\n",
    "    return encoder,decoder"
   ]
  },
  {
   "cell_type": "code",
   "execution_count": 24,
   "metadata": {
    "colab": {
     "base_uri": "https://localhost:8080/"
    },
    "id": "y-_FfrZxVkqH",
    "outputId": "fde5e0f9-9ea3-4ac9-d634-fc9b52e295cb"
   },
   "outputs": [
    {
     "name": "stdout",
     "output_type": "stream",
     "text": [
      "Model: \"model_2\"\n",
      "_________________________________________________________________\n",
      "Layer (type)                 Output Shape              Param #   \n",
      "=================================================================\n",
      "input_9 (InputLayer)         [(None, 28, 28, 1)]       0         \n",
      "_________________________________________________________________\n",
      "sequential_4 (Sequential)    (None, 36)                397092    \n",
      "_________________________________________________________________\n",
      "sequential_5 (Sequential)    (None, 28, 28, 1)         1441793   \n",
      "=================================================================\n",
      "Total params: 1,838,885\n",
      "Trainable params: 1,838,885\n",
      "Non-trainable params: 0\n",
      "_________________________________________________________________\n"
     ]
    }
   ],
   "source": [
    "# Сконструировали энкодер и декодер \n",
    "encoder,decoder = build_conv_autoencoder(input_shape,code_size=36)\n",
    "\n",
    "inp = L.Input(input_shape)  # Вход\n",
    "code = encoder(inp)       # Энкодер от входа \n",
    "reconstruction = decoder(code)  # Декодер от кода \n",
    "\n",
    "# Автоэнокодер от входа и выхода \n",
    "autoencoder =  Model(inp, reconstruction)\n",
    "\n",
    "# sgd = tf.keras.optimizers.Adam(lr=1e-4, beta_1=0.9, beta_2=0.999, epsilon=1e-08)\n",
    "autoencoder.compile(optimizer='adam', loss='mse') # Собираем сеть с методом оптимизации и выбранной ошибкой \n",
    "\n",
    "# Посмотрим на параметры \n",
    "autoencoder.summary()"
   ]
  },
  {
   "cell_type": "code",
   "execution_count": 25,
   "metadata": {
    "colab": {
     "base_uri": "https://localhost:8080/"
    },
    "id": "pXtazqgRclPC",
    "outputId": "9b227e25-f81c-4f2a-e2b4-2450f7296504"
   },
   "outputs": [
    {
     "name": "stdout",
     "output_type": "stream",
     "text": [
      "Model: \"sequential_5\"\n",
      "_________________________________________________________________\n",
      "Layer (type)                 Output Shape              Param #   \n",
      "=================================================================\n",
      "dense_7 (Dense)              (None, 12544)             464128    \n",
      "_________________________________________________________________\n",
      "reshape_2 (Reshape)          (None, 7, 7, 256)         0         \n",
      "_________________________________________________________________\n",
      "conv2d_4 (Conv2D)            (None, 7, 7, 256)         590080    \n",
      "_________________________________________________________________\n",
      "up_sampling2d (UpSampling2D) (None, 14, 14, 256)       0         \n",
      "_________________________________________________________________\n",
      "conv2d_5 (Conv2D)            (None, 14, 14, 128)       295040    \n",
      "_________________________________________________________________\n",
      "up_sampling2d_1 (UpSampling2 (None, 28, 28, 128)       0         \n",
      "_________________________________________________________________\n",
      "conv2d_6 (Conv2D)            (None, 28, 28, 64)        73792     \n",
      "_________________________________________________________________\n",
      "conv2d_7 (Conv2D)            (None, 28, 28, 32)        18464     \n",
      "_________________________________________________________________\n",
      "conv2d_8 (Conv2D)            (None, 28, 28, 1)         289       \n",
      "=================================================================\n",
      "Total params: 1,441,793\n",
      "Trainable params: 1,441,793\n",
      "Non-trainable params: 0\n",
      "_________________________________________________________________\n"
     ]
    }
   ],
   "source": [
    "decoder.summary()"
   ]
  },
  {
   "cell_type": "code",
   "execution_count": 25,
   "metadata": {
    "colab": {
     "base_uri": "https://localhost:8080/"
    },
    "id": "hXUH9KgrVkqJ",
    "outputId": "3093ae23-f5fb-420f-95da-9b55df0bc709"
   },
   "outputs": [
    {
     "name": "stdout",
     "output_type": "stream",
     "text": [
      "Epoch 1/10\n",
      " 13/235 [>.............................] - ETA: 30:48 - loss: 0.1387"
     ]
    },
    {
     "name": "stderr",
     "output_type": "stream",
     "text": [
      "ERROR:root:Internal Python error in the inspect module.\n",
      "Below is the traceback from this internal error.\n",
      "\n",
      "ERROR:root:Internal Python error in the inspect module.\n",
      "Below is the traceback from this internal error.\n",
      "\n"
     ]
    },
    {
     "name": "stdout",
     "output_type": "stream",
     "text": [
      "Traceback (most recent call last):\n",
      "  File \"N:\\Conda_asus\\lib\\site-packages\\IPython\\core\\interactiveshell.py\", line 3437, in run_code\n",
      "    exec(code_obj, self.user_global_ns, self.user_ns)\n",
      "  File \"<ipython-input-26-af0e9c7d9191>\", line 2, in <module>\n",
      "    hist_3 = autoencoder.fit(X_train, X_train,\n",
      "  File \"C:\\Users\\asus\\AppData\\Roaming\\Python\\Python38\\site-packages\\tensorflow\\python\\keras\\engine\\training.py\", line 1183, in fit\n",
      "    tmp_logs = self.train_function(iterator)\n",
      "  File \"C:\\Users\\asus\\AppData\\Roaming\\Python\\Python38\\site-packages\\tensorflow\\python\\eager\\def_function.py\", line 889, in __call__\n",
      "    result = self._call(*args, **kwds)\n",
      "  File \"C:\\Users\\asus\\AppData\\Roaming\\Python\\Python38\\site-packages\\tensorflow\\python\\eager\\def_function.py\", line 917, in _call\n",
      "    return self._stateless_fn(*args, **kwds)  # pylint: disable=not-callable\n",
      "  File \"C:\\Users\\asus\\AppData\\Roaming\\Python\\Python38\\site-packages\\tensorflow\\python\\eager\\function.py\", line 3023, in __call__\n",
      "    return graph_function._call_flat(\n",
      "  File \"C:\\Users\\asus\\AppData\\Roaming\\Python\\Python38\\site-packages\\tensorflow\\python\\eager\\function.py\", line 1960, in _call_flat\n",
      "    return self._build_call_outputs(self._inference_function.call(\n",
      "  File \"C:\\Users\\asus\\AppData\\Roaming\\Python\\Python38\\site-packages\\tensorflow\\python\\eager\\function.py\", line 591, in call\n",
      "    outputs = execute.execute(\n",
      "  File \"C:\\Users\\asus\\AppData\\Roaming\\Python\\Python38\\site-packages\\tensorflow\\python\\eager\\execute.py\", line 59, in quick_execute\n",
      "    tensors = pywrap_tfe.TFE_Py_Execute(ctx._handle, device_name, op_name,\n",
      "KeyboardInterrupt\n",
      "\n",
      "During handling of the above exception, another exception occurred:\n",
      "\n",
      "Traceback (most recent call last):\n",
      "  File \"N:\\Conda_asus\\lib\\site-packages\\IPython\\core\\interactiveshell.py\", line 2061, in showtraceback\n",
      "    stb = value._render_traceback_()\n",
      "AttributeError: 'KeyboardInterrupt' object has no attribute '_render_traceback_'\n",
      "\n",
      "During handling of the above exception, another exception occurred:\n",
      "\n",
      "Traceback (most recent call last):\n",
      "  File \"N:\\Conda_asus\\lib\\site-packages\\IPython\\core\\ultratb.py\", line 1101, in get_records\n",
      "    return _fixed_getinnerframes(etb, number_of_lines_of_context, tb_offset)\n",
      "  File \"N:\\Conda_asus\\lib\\site-packages\\IPython\\core\\ultratb.py\", line 248, in wrapped\n",
      "    return f(*args, **kwargs)\n",
      "  File \"N:\\Conda_asus\\lib\\site-packages\\IPython\\core\\ultratb.py\", line 281, in _fixed_getinnerframes\n",
      "    records = fix_frame_records_filenames(inspect.getinnerframes(etb, context))\n",
      "  File \"N:\\Conda_asus\\lib\\inspect.py\", line 1515, in getinnerframes\n",
      "    frameinfo = (tb.tb_frame,) + getframeinfo(tb, context)\n",
      "  File \"N:\\Conda_asus\\lib\\inspect.py\", line 1473, in getframeinfo\n",
      "    filename = getsourcefile(frame) or getfile(frame)\n",
      "  File \"N:\\Conda_asus\\lib\\inspect.py\", line 708, in getsourcefile\n",
      "    if getattr(getmodule(object, filename), '__loader__', None) is not None:\n",
      "  File \"N:\\Conda_asus\\lib\\inspect.py\", line 754, in getmodule\n",
      "    os.path.realpath(f)] = module.__name__\n",
      "  File \"N:\\Conda_asus\\lib\\ntpath.py\", line 626, in realpath\n",
      "    path = normpath(path)\n",
      "  File \"N:\\Conda_asus\\lib\\ntpath.py\", line 482, in normpath\n",
      "    while i < len(comps):\n",
      "KeyboardInterrupt\n",
      "Traceback (most recent call last):\n",
      "  File \"N:\\Conda_asus\\lib\\site-packages\\IPython\\core\\interactiveshell.py\", line 3437, in run_code\n",
      "    exec(code_obj, self.user_global_ns, self.user_ns)\n",
      "  File \"<ipython-input-26-af0e9c7d9191>\", line 2, in <module>\n",
      "    hist_3 = autoencoder.fit(X_train, X_train,\n",
      "  File \"C:\\Users\\asus\\AppData\\Roaming\\Python\\Python38\\site-packages\\tensorflow\\python\\keras\\engine\\training.py\", line 1183, in fit\n",
      "    tmp_logs = self.train_function(iterator)\n",
      "  File \"C:\\Users\\asus\\AppData\\Roaming\\Python\\Python38\\site-packages\\tensorflow\\python\\eager\\def_function.py\", line 889, in __call__\n",
      "    result = self._call(*args, **kwds)\n",
      "  File \"C:\\Users\\asus\\AppData\\Roaming\\Python\\Python38\\site-packages\\tensorflow\\python\\eager\\def_function.py\", line 917, in _call\n",
      "    return self._stateless_fn(*args, **kwds)  # pylint: disable=not-callable\n",
      "  File \"C:\\Users\\asus\\AppData\\Roaming\\Python\\Python38\\site-packages\\tensorflow\\python\\eager\\function.py\", line 3023, in __call__\n",
      "    return graph_function._call_flat(\n",
      "  File \"C:\\Users\\asus\\AppData\\Roaming\\Python\\Python38\\site-packages\\tensorflow\\python\\eager\\function.py\", line 1960, in _call_flat\n",
      "    return self._build_call_outputs(self._inference_function.call(\n",
      "  File \"C:\\Users\\asus\\AppData\\Roaming\\Python\\Python38\\site-packages\\tensorflow\\python\\eager\\function.py\", line 591, in call\n",
      "    outputs = execute.execute(\n",
      "  File \"C:\\Users\\asus\\AppData\\Roaming\\Python\\Python38\\site-packages\\tensorflow\\python\\eager\\execute.py\", line 59, in quick_execute\n",
      "    tensors = pywrap_tfe.TFE_Py_Execute(ctx._handle, device_name, op_name,\n",
      "KeyboardInterrupt\n",
      "\n",
      "During handling of the above exception, another exception occurred:\n",
      "\n",
      "Traceback (most recent call last):\n",
      "  File \"N:\\Conda_asus\\lib\\site-packages\\IPython\\core\\interactiveshell.py\", line 2061, in showtraceback\n",
      "    stb = value._render_traceback_()\n",
      "AttributeError: 'KeyboardInterrupt' object has no attribute '_render_traceback_'\n",
      "\n",
      "During handling of the above exception, another exception occurred:\n",
      "\n",
      "Traceback (most recent call last):\n",
      "  File \"N:\\Conda_asus\\lib\\site-packages\\IPython\\core\\interactiveshell.py\", line 3357, in run_ast_nodes\n",
      "    if (await self.run_code(code, result,  async_=asy)):\n",
      "  File \"N:\\Conda_asus\\lib\\site-packages\\IPython\\core\\interactiveshell.py\", line 3454, in run_code\n",
      "    self.showtraceback(running_compiled_code=True)\n",
      "  File \"N:\\Conda_asus\\lib\\site-packages\\IPython\\core\\interactiveshell.py\", line 2063, in showtraceback\n",
      "    stb = self.InteractiveTB.structured_traceback(etype,\n",
      "  File \"N:\\Conda_asus\\lib\\site-packages\\IPython\\core\\ultratb.py\", line 1367, in structured_traceback\n",
      "    return FormattedTB.structured_traceback(\n",
      "  File \"N:\\Conda_asus\\lib\\site-packages\\IPython\\core\\ultratb.py\", line 1267, in structured_traceback\n",
      "    return VerboseTB.structured_traceback(\n",
      "  File \"N:\\Conda_asus\\lib\\site-packages\\IPython\\core\\ultratb.py\", line 1124, in structured_traceback\n",
      "    formatted_exception = self.format_exception_as_a_whole(etype, evalue, etb, number_of_lines_of_context,\n",
      "  File \"N:\\Conda_asus\\lib\\site-packages\\IPython\\core\\ultratb.py\", line 1082, in format_exception_as_a_whole\n",
      "    last_unique, recursion_repeat = find_recursion(orig_etype, evalue, records)\n",
      "  File \"N:\\Conda_asus\\lib\\site-packages\\IPython\\core\\ultratb.py\", line 382, in find_recursion\n",
      "    return len(records), 0\n",
      "TypeError: object of type 'NoneType' has no len()\n",
      "\n",
      "During handling of the above exception, another exception occurred:\n",
      "\n",
      "Traceback (most recent call last):\n",
      "  File \"N:\\Conda_asus\\lib\\site-packages\\IPython\\core\\interactiveshell.py\", line 2061, in showtraceback\n",
      "    stb = value._render_traceback_()\n",
      "AttributeError: 'TypeError' object has no attribute '_render_traceback_'\n",
      "\n",
      "During handling of the above exception, another exception occurred:\n",
      "\n",
      "Traceback (most recent call last):\n",
      "  File \"N:\\Conda_asus\\lib\\site-packages\\IPython\\core\\ultratb.py\", line 1101, in get_records\n",
      "    return _fixed_getinnerframes(etb, number_of_lines_of_context, tb_offset)\n",
      "  File \"N:\\Conda_asus\\lib\\site-packages\\IPython\\core\\ultratb.py\", line 248, in wrapped\n",
      "    return f(*args, **kwargs)\n",
      "  File \"N:\\Conda_asus\\lib\\site-packages\\IPython\\core\\ultratb.py\", line 281, in _fixed_getinnerframes\n",
      "    records = fix_frame_records_filenames(inspect.getinnerframes(etb, context))\n",
      "  File \"N:\\Conda_asus\\lib\\inspect.py\", line 1515, in getinnerframes\n",
      "    frameinfo = (tb.tb_frame,) + getframeinfo(tb, context)\n",
      "  File \"N:\\Conda_asus\\lib\\inspect.py\", line 1473, in getframeinfo\n",
      "    filename = getsourcefile(frame) or getfile(frame)\n",
      "  File \"N:\\Conda_asus\\lib\\inspect.py\", line 705, in getsourcefile\n",
      "    if os.path.exists(filename):\n",
      "  File \"N:\\Conda_asus\\lib\\genericpath.py\", line 19, in exists\n",
      "    os.stat(path)\n",
      "KeyboardInterrupt\n"
     ]
    },
    {
     "name": "stderr",
     "output_type": "stream",
     "text": [
      "\n",
      "KeyboardInterrupt\n",
      "\n"
     ]
    }
   ],
   "source": [
    "# Модель будет обучаться долго\n",
    "hist_3 = autoencoder.fit(X_train, X_train,\n",
    "                        epochs=10,\n",
    "                        batch_size=256,\n",
    "                        shuffle=True)"
   ]
  },
  {
   "cell_type": "code",
   "execution_count": null,
   "metadata": {
    "colab": {
     "base_uri": "https://localhost:8080/",
     "height": 842
    },
    "id": "-T2cHdK_VkqJ",
    "outputId": "65757846-f992-48c7-e055-3f26055c7f99"
   },
   "outputs": [],
   "source": [
    "score = autoencoder.evaluate(X_test, X_test,verbose=1)\n",
    "print(\"Final MSE:\",score)\n",
    "\n",
    "for i in range(3):\n",
    "    img = X_test[i]\n",
    "    visualize(img,encoder,decoder)"
   ]
  },
  {
   "cell_type": "markdown",
   "metadata": {
    "id": "ujc7rjXBVkqK"
   },
   "source": [
    "## 5. Denoising автоэнкодер \n",
    "\n",
    "Автоэнкодеры можно обучить убирать шум из данных: для этого надо на вход подавать зашумленные данные и на выходе сравнивать с данными без шума. Создадим модель, которая будет зашумлять входное изображение, а после пытаться избавить его от шума. "
   ]
  },
  {
   "cell_type": "code",
   "execution_count": null,
   "metadata": {
    "id": "RQb2Kg-6VkqK"
   },
   "outputs": [],
   "source": [
    "# Добавляем на картинку немного шума\n",
    "def apply_gaussian_noise(X,sigma=0.01):\n",
    "    return X + sigma*np.random.normal(loc=0.0, scale=1.0, size=X.shape)"
   ]
  },
  {
   "cell_type": "code",
   "execution_count": null,
   "metadata": {
    "colab": {
     "base_uri": "https://localhost:8080/",
     "height": 123
    },
    "id": "iefmhcNPVkqK",
    "outputId": "7ed09a9d-2c11-4037-8291-1f1d3a87a9bf"
   },
   "outputs": [],
   "source": [
    "plt.subplot(1,4,1)\n",
    "plt.imshow(X_train[0].reshape(28, 28), cmap = 'gray')\n",
    "plt.subplot(1,4,2)\n",
    "plt.imshow(apply_gaussian_noise(X_train[:1],sigma=0.01)[0].reshape(28, 28), cmap = 'gray')\n",
    "plt.subplot(1,4,3)\n",
    "plt.imshow(apply_gaussian_noise(X_train[:1],sigma=0.1)[0].reshape(28, 28), cmap = 'gray')\n",
    "plt.subplot(1,4,4)\n",
    "plt.imshow(apply_gaussian_noise(X_train[:1],sigma=0.5)[0].reshape(28, 28), cmap = 'gray');"
   ]
  },
  {
   "cell_type": "code",
   "execution_count": null,
   "metadata": {
    "id": "-My_sykqVkqL"
   },
   "outputs": [],
   "source": [
    "# Зашумляем данные \n",
    "X_train_noisy = apply_gaussian_noise(X_train, sigma=0.1)\n",
    "X_test_noisy = apply_gaussian_noise(X_test, sigma=0.1)\n",
    "\n",
    "# Убираем все заскоки за отрезок [0;1]\n",
    "X_train_noisy = np.clip(X_train_noisy, 0., 1.)\n",
    "X_test_noisy = np.clip(X_test_noisy, 0., 1.)"
   ]
  },
  {
   "cell_type": "markdown",
   "metadata": {
    "id": "u4TDwqICVkqL"
   },
   "source": [
    "Собираем сеточку из предыдущего пункта."
   ]
  },
  {
   "cell_type": "code",
   "execution_count": null,
   "metadata": {
    "colab": {
     "base_uri": "https://localhost:8080/"
    },
    "id": "W_AfO3WAVkqL",
    "outputId": "14625ae3-c2aa-45bc-f250-6ea51632ce25"
   },
   "outputs": [],
   "source": [
    "# размер горлышка имеет смысл взять побольше (почему?)\n",
    "encoder_noisy, decoder_noisy = build_deep_autoencoder(input_shape, code_size=1024)\n",
    "\n",
    "inp = L.Input(input_shape)\n",
    "code = encoder_noisy(inp)\n",
    "reconstruction = decoder_noisy(code)\n",
    "\n",
    "autoencoder_noisy = Model(inp, reconstruction)\n",
    "autoencoder_noisy.compile('adam', 'mse')\n",
    "\n",
    "autoencoder_noisy.summary()"
   ]
  },
  {
   "cell_type": "code",
   "execution_count": null,
   "metadata": {
    "colab": {
     "base_uri": "https://localhost:8080/"
    },
    "id": "W-rwbL5FVkqM",
    "outputId": "86d44b7c-3d16-4286-e28b-c7a067be4e7c"
   },
   "outputs": [],
   "source": [
    "hist_noise = autoencoder_noisy.fit(X_train_noisy, X_train,\n",
    "                        epochs=10,\n",
    "                        batch_size=256,\n",
    "                        shuffle=True,\n",
    "                        validation_data=(X_test_noisy, X_test))"
   ]
  },
  {
   "cell_type": "code",
   "execution_count": null,
   "metadata": {
    "colab": {
     "base_uri": "https://localhost:8080/",
     "height": 826
    },
    "id": "G5uqdPe5VkqM",
    "outputId": "ac3fd6fa-f69f-4653-88eb-9b750dd2d906"
   },
   "outputs": [],
   "source": [
    "score = autoencoder_noisy.evaluate(X_test_noisy, X_test,verbose=0)\n",
    "print(\"Final MSE:\",score)\n",
    "\n",
    "for i in range(3):\n",
    "    img = X_test_noisy[i]\n",
    "    visualize(img,encoder,decoder)"
   ]
  },
  {
   "cell_type": "markdown",
   "metadata": {
    "id": "WRMsxDXeVkqN"
   },
   "source": [
    "## 6.  Поиск похожих изображений \n",
    "\n",
    "С помощью найденного горлышка можно искать похожие друг на друга изображения. "
   ]
  },
  {
   "cell_type": "code",
   "execution_count": null,
   "metadata": {
    "colab": {
     "base_uri": "https://localhost:8080/"
    },
    "id": "HIJb87HmVkqN",
    "outputId": "b3d1e594-5839-45d2-b33c-1d68eca6834e"
   },
   "outputs": [],
   "source": [
    "images = X_train\n",
    "codes = encoder.predict(images, verbose=1)\n",
    "\n",
    "# хорошая идея ставить по ходу архитекрутуры проверки на размерности :) \n",
    "assert len(codes) == len(images)"
   ]
  },
  {
   "cell_type": "code",
   "execution_count": null,
   "metadata": {
    "colab": {
     "base_uri": "https://localhost:8080/",
     "height": 35
    },
    "id": "CKj6KrMOVkqN",
    "outputId": "d2718175-b02e-41f5-93ed-6e60852a0efa"
   },
   "outputs": [],
   "source": [
    "import sklearn\n",
    "sklearn.__version__"
   ]
  },
  {
   "cell_type": "code",
   "execution_count": null,
   "metadata": {
    "id": "EtKKLAsyVkqN"
   },
   "outputs": [],
   "source": [
    "from sklearn.neighbors import NearestNeighbors\n",
    "near_neighbor = NearestNeighbors(n_neighbors=50).fit(codes)"
   ]
  },
  {
   "cell_type": "code",
   "execution_count": null,
   "metadata": {
    "id": "Lj1SGJlAVkqO"
   },
   "outputs": [],
   "source": [
    "def get_similar(image, n_neighbors=5):\n",
    "    \n",
    "    code = encoder.predict(image[None])\n",
    "    \n",
    "    (distances,),(idx,) = near_neighbor.kneighbors(code,n_neighbors=n_neighbors)\n",
    "    \n",
    "    return distances,images[idx]"
   ]
  },
  {
   "cell_type": "code",
   "execution_count": null,
   "metadata": {
    "id": "iK2nCa63VkqO"
   },
   "outputs": [],
   "source": [
    "def show_similar(image):\n",
    "    \n",
    "    distances,neighbors = get_similar(image,n_neighbors=11)\n",
    "    \n",
    "    plt.figure(figsize=[8,6])\n",
    "    plt.subplot(3,4,1)\n",
    "    plt.imshow(image.reshape(28,28), cmap = 'gray')\n",
    "    plt.title(\"Original image\")\n",
    "    \n",
    "    for i in range(11):\n",
    "        plt.subplot(3,4,i+2)\n",
    "        plt.imshow(neighbors[i].reshape(28,28), cmap = 'gray')\n",
    "        plt.title(\"Dist=%.3f\"%distances[i])\n",
    "    plt.show()"
   ]
  },
  {
   "cell_type": "code",
   "execution_count": 29,
   "metadata": {
    "colab": {
     "base_uri": "https://localhost:8080/",
     "height": 390
    },
    "id": "Ie6bVHjmVkqO",
    "outputId": "4609d3d2-e111-4401-8b6c-5e10a7b89d1d"
   },
   "outputs": [
    {
     "ename": "NameError",
     "evalue": "name 'near_neighbor' is not defined",
     "output_type": "error",
     "traceback": [
      "\u001b[1;31m---------------------------------------------------------------------------\u001b[0m",
      "\u001b[1;31mNameError\u001b[0m                                 Traceback (most recent call last)",
      "\u001b[1;32m<ipython-input-29-4ee70993cbaa>\u001b[0m in \u001b[0;36m<module>\u001b[1;34m\u001b[0m\n\u001b[1;32m----> 1\u001b[1;33m \u001b[0mshow_similar\u001b[0m\u001b[1;33m(\u001b[0m\u001b[0mX_test\u001b[0m\u001b[1;33m[\u001b[0m\u001b[1;36m2\u001b[0m\u001b[1;33m]\u001b[0m\u001b[1;33m)\u001b[0m\u001b[1;33m\u001b[0m\u001b[1;33m\u001b[0m\u001b[0m\n\u001b[0m",
      "\u001b[1;32m<ipython-input-28-52fbacdebed7>\u001b[0m in \u001b[0;36mshow_similar\u001b[1;34m(image)\u001b[0m\n\u001b[0;32m      1\u001b[0m \u001b[1;32mdef\u001b[0m \u001b[0mshow_similar\u001b[0m\u001b[1;33m(\u001b[0m\u001b[0mimage\u001b[0m\u001b[1;33m)\u001b[0m\u001b[1;33m:\u001b[0m\u001b[1;33m\u001b[0m\u001b[1;33m\u001b[0m\u001b[0m\n\u001b[0;32m      2\u001b[0m \u001b[1;33m\u001b[0m\u001b[0m\n\u001b[1;32m----> 3\u001b[1;33m     \u001b[0mdistances\u001b[0m\u001b[1;33m,\u001b[0m\u001b[0mneighbors\u001b[0m \u001b[1;33m=\u001b[0m \u001b[0mget_similar\u001b[0m\u001b[1;33m(\u001b[0m\u001b[0mimage\u001b[0m\u001b[1;33m,\u001b[0m\u001b[0mn_neighbors\u001b[0m\u001b[1;33m=\u001b[0m\u001b[1;36m11\u001b[0m\u001b[1;33m)\u001b[0m\u001b[1;33m\u001b[0m\u001b[1;33m\u001b[0m\u001b[0m\n\u001b[0m\u001b[0;32m      4\u001b[0m \u001b[1;33m\u001b[0m\u001b[0m\n\u001b[0;32m      5\u001b[0m     \u001b[0mplt\u001b[0m\u001b[1;33m.\u001b[0m\u001b[0mfigure\u001b[0m\u001b[1;33m(\u001b[0m\u001b[0mfigsize\u001b[0m\u001b[1;33m=\u001b[0m\u001b[1;33m[\u001b[0m\u001b[1;36m8\u001b[0m\u001b[1;33m,\u001b[0m\u001b[1;36m6\u001b[0m\u001b[1;33m]\u001b[0m\u001b[1;33m)\u001b[0m\u001b[1;33m\u001b[0m\u001b[1;33m\u001b[0m\u001b[0m\n",
      "\u001b[1;32m<ipython-input-27-68b62de5ec76>\u001b[0m in \u001b[0;36mget_similar\u001b[1;34m(image, n_neighbors)\u001b[0m\n\u001b[0;32m      3\u001b[0m     \u001b[0mcode\u001b[0m \u001b[1;33m=\u001b[0m \u001b[0mencoder\u001b[0m\u001b[1;33m.\u001b[0m\u001b[0mpredict\u001b[0m\u001b[1;33m(\u001b[0m\u001b[0mimage\u001b[0m\u001b[1;33m[\u001b[0m\u001b[1;32mNone\u001b[0m\u001b[1;33m]\u001b[0m\u001b[1;33m)\u001b[0m\u001b[1;33m\u001b[0m\u001b[1;33m\u001b[0m\u001b[0m\n\u001b[0;32m      4\u001b[0m \u001b[1;33m\u001b[0m\u001b[0m\n\u001b[1;32m----> 5\u001b[1;33m     \u001b[1;33m(\u001b[0m\u001b[0mdistances\u001b[0m\u001b[1;33m,\u001b[0m\u001b[1;33m)\u001b[0m\u001b[1;33m,\u001b[0m\u001b[1;33m(\u001b[0m\u001b[0midx\u001b[0m\u001b[1;33m,\u001b[0m\u001b[1;33m)\u001b[0m \u001b[1;33m=\u001b[0m \u001b[0mnear_neighbor\u001b[0m\u001b[1;33m.\u001b[0m\u001b[0mkneighbors\u001b[0m\u001b[1;33m(\u001b[0m\u001b[0mcode\u001b[0m\u001b[1;33m,\u001b[0m\u001b[0mn_neighbors\u001b[0m\u001b[1;33m=\u001b[0m\u001b[0mn_neighbors\u001b[0m\u001b[1;33m)\u001b[0m\u001b[1;33m\u001b[0m\u001b[1;33m\u001b[0m\u001b[0m\n\u001b[0m\u001b[0;32m      6\u001b[0m \u001b[1;33m\u001b[0m\u001b[0m\n\u001b[0;32m      7\u001b[0m     \u001b[1;32mreturn\u001b[0m \u001b[0mdistances\u001b[0m\u001b[1;33m,\u001b[0m\u001b[0mimages\u001b[0m\u001b[1;33m[\u001b[0m\u001b[0midx\u001b[0m\u001b[1;33m]\u001b[0m\u001b[1;33m\u001b[0m\u001b[1;33m\u001b[0m\u001b[0m\n",
      "\u001b[1;31mNameError\u001b[0m: name 'near_neighbor' is not defined"
     ]
    }
   ],
   "source": [
    "show_similar(X_test[2])"
   ]
  },
  {
   "cell_type": "code",
   "execution_count": null,
   "metadata": {
    "colab": {
     "base_uri": "https://localhost:8080/",
     "height": 390
    },
    "id": "wyJKcUjAVkqO",
    "outputId": "c55b113a-79c6-442a-aaff-85b7722c0e75"
   },
   "outputs": [],
   "source": [
    "show_similar(X_test[500])"
   ]
  },
  {
   "cell_type": "code",
   "execution_count": null,
   "metadata": {
    "colab": {
     "base_uri": "https://localhost:8080/",
     "height": 390
    },
    "id": "HhJdPI6uVkqP",
    "outputId": "f4c50994-55f6-4f45-feb8-482851808899",
    "scrolled": false
   },
   "outputs": [],
   "source": [
    "show_similar(X_test[69])"
   ]
  },
  {
   "cell_type": "markdown",
   "metadata": {
    "id": "OkbRZ47pVkqP"
   },
   "source": [
    "## 7.  Прогулка по пространству эмбедингов.\n",
    "\n",
    "Можно брать два эмбединга, искать между ними линейную комбинацию и пытаться прогуляться от одного к другому :)"
   ]
  },
  {
   "cell_type": "code",
   "execution_count": null,
   "metadata": {
    "colab": {
     "base_uri": "https://localhost:8080/",
     "height": 609
    },
    "id": "iqK0DghYVkqP",
    "outputId": "dd616326-6058-449d-bfad-83d922b533c6"
   },
   "outputs": [],
   "source": [
    "path_len = 10\n",
    "\n",
    "for _ in range(5):\n",
    "    image1,image2 = X_test[np.random.randint(0,len(X_test),size=2)]\n",
    "\n",
    "    code1, code2 = encoder.predict(np.stack([image1, image2]))\n",
    "\n",
    "    plt.figure(figsize=[15,6])\n",
    "    for i,a in enumerate(np.linspace(0,1,num=path_len)):\n",
    "\n",
    "        output_code = code1*(1-a) + code2*(a)\n",
    "        output_image = decoder.predict(output_code[None])[0]\n",
    "\n",
    "        plt.subplot(1, path_len, i+1)\n",
    "        plt.imshow(output_image.reshape(28,28), cmap = 'gray')\n",
    "        plt.title(\"a=%.2f\"%a)\n",
    "    plt.show()"
   ]
  },
  {
   "cell_type": "markdown",
   "metadata": {
    "id": "tVKT2be_VkqQ"
   },
   "source": [
    "Развитием темы являются **вариационные автоэнкодеры (VAE)**.\n",
    "\n",
    "VAE - это автоэнкодер с условием на распредление векторов латентного пространства. Используется для задачи генерации новых изображений"
   ]
  },
  {
   "cell_type": "markdown",
   "metadata": {
    "id": "QEeZUuLtjtc0"
   },
   "source": [
    "### Homework"
   ]
  },
  {
   "cell_type": "markdown",
   "metadata": {
    "id": "9XbOwXcgjyIQ"
   },
   "source": [
    "1. Обучить автоэнкодер с размерностью латентного пространства 64 (размерность выхода энкодера)\n",
    "2. Построить нейронку, которая на вход принимает выходы энкодера. Таргетом в задаче является цифра на картинке. Добиться accuracy 90% на test выборке, если получится"
   ]
  },
  {
   "cell_type": "code",
   "execution_count": null,
   "metadata": {},
   "outputs": [],
   "source": []
  },
  {
   "cell_type": "code",
   "execution_count": null,
   "metadata": {},
   "outputs": [],
   "source": []
  }
 ],
 "metadata": {
  "accelerator": "GPU",
  "colab": {
   "name": "autoencoders_solve.ipynb",
   "provenance": []
  },
  "kernelspec": {
   "display_name": "Python 3",
   "language": "python",
   "name": "python3"
  },
  "language_info": {
   "codemirror_mode": {
    "name": "ipython",
    "version": 3
   },
   "file_extension": ".py",
   "mimetype": "text/x-python",
   "name": "python",
   "nbconvert_exporter": "python",
   "pygments_lexer": "ipython3",
   "version": "3.8.8"
  }
 },
 "nbformat": 4,
 "nbformat_minor": 1
}
